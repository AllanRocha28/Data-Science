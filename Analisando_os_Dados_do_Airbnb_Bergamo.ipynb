{
  "nbformat": 4,
  "nbformat_minor": 0,
  "metadata": {
    "colab": {
      "name": "Analisando os Dados do Airbnb-Bergamo",
      "provenance": [],
      "collapsed_sections": [],
      "include_colab_link": true
    },
    "kernelspec": {
      "name": "python3",
      "display_name": "Python 3"
    }
  },
  "cells": [
    {
      "cell_type": "markdown",
      "metadata": {
        "id": "view-in-github",
        "colab_type": "text"
      },
      "source": [
        "<a href=\"https://colab.research.google.com/github/AllanRocha28/Data-Science/blob/public/Analisando_os_Dados_do_Airbnb_Bergamo.ipynb\" target=\"_parent\"><img src=\"https://colab.research.google.com/assets/colab-badge.svg\" alt=\"Open In Colab\"/></a>"
      ]
    },
    {
      "cell_type": "markdown",
      "metadata": {
        "id": "kLI0gJtzDGuQ"
      },
      "source": [
        "<img alt=\"Colaboratory logo\" width=\"15%\" src=\"https://raw.githubusercontent.com/carlosfab/escola-data-science/master/img/novo_logo_bg_claro.png\">\n",
        "\n",
        "#### **Data Science na Prática 3.0**\n",
        "*by [sigmoidal.ai](https://sigmoidal.ai)*\n",
        "\n",
        "---\n",
        "\n",
        "# Análise dos Dados do Airbnb - *Bérgamo, Lombardia - Itália*\n",
        "\n",
        "O [Airbnb](https://www.airbnb.com.br/) já é considerado como sendo a **maior empresa hoteleira da atualidade**. Ah, o detalhe é que ele **não possui nenhum hotel**!\n",
        "\n",
        "Conectando pessoas que querem viajar (e se hospedar) com anfitriões que querem alugar seus imóveis de maneira prática, o Airbnb fornece uma plataforma inovadora para tornar essa hospedagem alternativa.\n",
        "\n",
        "No final de 2018, a Startup fundada 10 anos atrás, já havia **hospedado mais de 300 milhões** de pessoas ao redor de todo o mundo, desafiando as redes hoteleiras tradicionais.\n",
        "\n",
        "Uma das iniciativas do Airbnb é disponibilizar dados do site, para algumas das principais cidades do mundo. Por meio do portal [Inside Airbnb](http://insideairbnb.com/get-the-data.html), é possível baixar uma grande quantidade de dados para desenvolver projetos e soluções de *Data Science*.\n",
        "\n",
        "<center><img alt=\"Analisando Airbnb\" width=\"10%\" src=\"https://www.area360.com.au/wp-content/uploads/2017/09/airbnb-logo.jpg\"></center>\n",
        "\n",
        "**Neste *notebook*, iremos analisar os dados referentes à cidade Bérgamo, e ver quais insights podem ser extraídos a partir de dados brutos.**"
      ]
    },
    {
      "cell_type": "markdown",
      "source": [
        "## **Sobre Bérgamo**\n",
        "\n",
        "Bérgamo é uma cidade italiana, província da região da Lombardia.\n",
        "\n",
        "A cidade está dividida em duas distintas áreas: A Città Alta (cidade Alta), um centro histórico cercado por uma muralha, e a Città Bassa (Cidade Baixa) , uma região mais moderna, onde estão localizados os comércios, indústrias.\n",
        "\n",
        "Apesar de não ser tão conhecida, quanto outras cidades italianas, Bérgamo apresenta diferentes pontos turísticos e belezas que estão atraindo e levando turistas a conhecer os encantos desse lindo lugar.\n",
        "\n",
        "No estudo realizado, os dados coletados e apresentados, poderão auxiliar a você a conhecer um pouco mais sobre o funcionamento da plataforma do Airbnb na região, destacando as principais informações que você pode necessitar para se hospedar e explorar este lindo lugar."
      ],
      "metadata": {
        "id": "J-nsdC7npcwe"
      }
    },
    {
      "cell_type": "markdown",
      "source": [
        "<center><img alt=\"Bérgamo\" width=\"75%\" src=\"https://upload.wikimedia.org/wikipedia/commons/0/0c/Sunrise_at_Bergamo_old_town%2C_Lombardy%2C_Italy.jpg\">\n",
        "</center>"
      ],
      "metadata": {
        "id": "cyl0f_r4rk3B"
      }
    },
    {
      "cell_type": "markdown",
      "metadata": {
        "id": "0zxQHhIUDF_2"
      },
      "source": [
        "## Obtenção dos Dados\n",
        "\n",
        "\n",
        "Os dados deste estudo foram baixados do site [Inside Airbnb](http://insideairbnb.com/get-the-data.html).\n",
        "\n",
        "Para a análise o arquivo baixado foi:\n",
        "\n",
        "* `\tlistings.csv` - *Summary information and metrics for listings in Bergamo (good for visualisations).*\n",
        "\n",
        "O site sofre constantes atualizações e por isso o arquivo utilizado neste estudo poderá ter sido alterado em algum outro momento. Pensando nisso, o arquivo utilizado nessa análise fica disponível para ser [baixado](https://www.dropbox.com/s/hhhclxvefqu5mla/listings.csv?dl=1).\n"
      ]
    },
    {
      "cell_type": "code",
      "metadata": {
        "id": "Vhp2wMPgJ6zX"
      },
      "source": [
        "# importar os pacotes necessarios\n",
        "import numpy as np\n",
        "import pandas as pd\n",
        "import matplotlib.pyplot as plt\n",
        "import seaborn as sns\n",
        "\n",
        "%matplotlib inline"
      ],
      "execution_count": null,
      "outputs": []
    },
    {
      "cell_type": "code",
      "metadata": {
        "id": "tUmoAT8DLQ5T"
      },
      "source": [
        "# importar o arquivo listings.csv para um DataFrame\n",
        "df = pd.read_csv(\"https://www.dropbox.com/s/hhhclxvefqu5mla/listings.csv?dl=1\")"
      ],
      "execution_count": null,
      "outputs": []
    },
    {
      "cell_type": "markdown",
      "metadata": {
        "id": "qb5By2nIMS6m"
      },
      "source": [
        "## Análise dos Dados\n"
      ]
    },
    {
      "cell_type": "markdown",
      "metadata": {
        "id": "RYgvuebKNg8-"
      },
      "source": [
        "**Dicionário das variáveis**\n",
        "\n",
        "* `id` - identificador do Airbnb para cada anúncio\n",
        "* `name` - nome da propriedade\n",
        "* `host_id` - identificação do Airbnb para o anfitrião\n",
        "* `host_name` - nome do anfitrião\n",
        "* `neighbourhood_group` - não há dados para esta variável\n",
        "* `neighbourhood` - nome dos bairros\n",
        "* `latitude` - posição geográfica da propriedade, em termos da sua latitude\n",
        "* `longitude` - posição geográfica da propriedade, em termos da sua longitude\n",
        "* `room_type` - tipo de imóvel para alugar\n",
        "* `price` - preço da diária\n",
        "* `minimum_nights` - número mínimo de noites para reservar\n",
        "* `number_of_reviews` - número de *reviews* que a propriedade possui\n",
        "* `last_review` - data da última revisão\n",
        "* `reviews_per_month` - quantidade de *reviews* por mês\n",
        "* `calculated_host_listings_count` - quantidade de propriedades de um mesmo anfitrão\n",
        "* `availability_365` - número de dias disponíveis em 365 dias\n",
        "* `number_of_reviews_ltm` - número de reviews nos últimos 12 meses para o imóvel\n",
        "* `license` - número da licença, permisão ou registro do imóvel\n",
        "\n",
        "Antes de iniciar qualquer análise, vamos verificar o *dataset*, analisando as 5 primeiras entradas."
      ]
    },
    {
      "cell_type": "code",
      "metadata": {
        "id": "2iS_dae7YQtO",
        "colab": {
          "base_uri": "https://localhost:8080/",
          "height": 478
        },
        "outputId": "0f893d31-38c4-4cf4-8070-ed78417c8855"
      },
      "source": [
        "# mostrar as 5 primeiras entradas\n",
        "df.head()"
      ],
      "execution_count": null,
      "outputs": [
        {
          "output_type": "execute_result",
          "data": {
            "text/plain": [
              "       id                                       name  host_id  \\\n",
              "0   15526                Residenza PALAZZO lake view    60754   \n",
              "1   15542             Suite PANORAMA facing the lake    60754   \n",
              "2   31412                      Cute and Cosy Terrace   134937   \n",
              "3  116423              Casetta a 12km da lago d'iseo   588254   \n",
              "4  179345  Bossico Vicino a Montisola  e lago D'iseo   588254   \n",
              "\n",
              "                    host_name  neighbourhood_group  neighbourhood  latitude  \\\n",
              "0  Andrea, Maurizio, And Tina                  NaN  Solto Collina  45.78464   \n",
              "1  Andrea, Maurizio, And Tina                  NaN  Solto Collina  45.78354   \n",
              "2                       Elena                  NaN        Bergamo  45.69052   \n",
              "3                      Angela                  NaN        Bossico  45.82840   \n",
              "4                      Angela                  NaN        Bossico  45.82723   \n",
              "\n",
              "   longitude        room_type  price  minimum_nights  number_of_reviews  \\\n",
              "0   10.02629  Entire home/apt    119               3                 37   \n",
              "1   10.02471  Entire home/apt     87               3                 42   \n",
              "2    9.67099  Entire home/apt     64               1                 93   \n",
              "3   10.04476  Entire home/apt     62               7                  8   \n",
              "4   10.04484  Entire home/apt     60               7                 11   \n",
              "\n",
              "  last_review  reviews_per_month  calculated_host_listings_count  \\\n",
              "0  2021-08-26               0.29                               5   \n",
              "1  2021-09-21               0.36                               5   \n",
              "2  2021-10-05               0.78                              10   \n",
              "3  2019-11-03               0.18                               3   \n",
              "4  2021-09-30               0.25                               3   \n",
              "\n",
              "   availability_365  number_of_reviews_ltm                     license  \n",
              "0                63                      2                         NaN  \n",
              "1                72                      2                         NaN  \n",
              "2                 1                     14                         NaN  \n",
              "3               292                      0  CIR 016033-CNI-00002T00146  \n",
              "4               292                      1  CIR 016033-CNI-00002T00146  "
            ],
            "text/html": [
              "\n",
              "  <div id=\"df-9ed31b6d-e662-4fd5-a9be-feeafab216c6\">\n",
              "    <div class=\"colab-df-container\">\n",
              "      <div>\n",
              "<style scoped>\n",
              "    .dataframe tbody tr th:only-of-type {\n",
              "        vertical-align: middle;\n",
              "    }\n",
              "\n",
              "    .dataframe tbody tr th {\n",
              "        vertical-align: top;\n",
              "    }\n",
              "\n",
              "    .dataframe thead th {\n",
              "        text-align: right;\n",
              "    }\n",
              "</style>\n",
              "<table border=\"1\" class=\"dataframe\">\n",
              "  <thead>\n",
              "    <tr style=\"text-align: right;\">\n",
              "      <th></th>\n",
              "      <th>id</th>\n",
              "      <th>name</th>\n",
              "      <th>host_id</th>\n",
              "      <th>host_name</th>\n",
              "      <th>neighbourhood_group</th>\n",
              "      <th>neighbourhood</th>\n",
              "      <th>latitude</th>\n",
              "      <th>longitude</th>\n",
              "      <th>room_type</th>\n",
              "      <th>price</th>\n",
              "      <th>minimum_nights</th>\n",
              "      <th>number_of_reviews</th>\n",
              "      <th>last_review</th>\n",
              "      <th>reviews_per_month</th>\n",
              "      <th>calculated_host_listings_count</th>\n",
              "      <th>availability_365</th>\n",
              "      <th>number_of_reviews_ltm</th>\n",
              "      <th>license</th>\n",
              "    </tr>\n",
              "  </thead>\n",
              "  <tbody>\n",
              "    <tr>\n",
              "      <th>0</th>\n",
              "      <td>15526</td>\n",
              "      <td>Residenza PALAZZO lake view</td>\n",
              "      <td>60754</td>\n",
              "      <td>Andrea, Maurizio, And Tina</td>\n",
              "      <td>NaN</td>\n",
              "      <td>Solto Collina</td>\n",
              "      <td>45.78464</td>\n",
              "      <td>10.02629</td>\n",
              "      <td>Entire home/apt</td>\n",
              "      <td>119</td>\n",
              "      <td>3</td>\n",
              "      <td>37</td>\n",
              "      <td>2021-08-26</td>\n",
              "      <td>0.29</td>\n",
              "      <td>5</td>\n",
              "      <td>63</td>\n",
              "      <td>2</td>\n",
              "      <td>NaN</td>\n",
              "    </tr>\n",
              "    <tr>\n",
              "      <th>1</th>\n",
              "      <td>15542</td>\n",
              "      <td>Suite PANORAMA facing the lake</td>\n",
              "      <td>60754</td>\n",
              "      <td>Andrea, Maurizio, And Tina</td>\n",
              "      <td>NaN</td>\n",
              "      <td>Solto Collina</td>\n",
              "      <td>45.78354</td>\n",
              "      <td>10.02471</td>\n",
              "      <td>Entire home/apt</td>\n",
              "      <td>87</td>\n",
              "      <td>3</td>\n",
              "      <td>42</td>\n",
              "      <td>2021-09-21</td>\n",
              "      <td>0.36</td>\n",
              "      <td>5</td>\n",
              "      <td>72</td>\n",
              "      <td>2</td>\n",
              "      <td>NaN</td>\n",
              "    </tr>\n",
              "    <tr>\n",
              "      <th>2</th>\n",
              "      <td>31412</td>\n",
              "      <td>Cute and Cosy Terrace</td>\n",
              "      <td>134937</td>\n",
              "      <td>Elena</td>\n",
              "      <td>NaN</td>\n",
              "      <td>Bergamo</td>\n",
              "      <td>45.69052</td>\n",
              "      <td>9.67099</td>\n",
              "      <td>Entire home/apt</td>\n",
              "      <td>64</td>\n",
              "      <td>1</td>\n",
              "      <td>93</td>\n",
              "      <td>2021-10-05</td>\n",
              "      <td>0.78</td>\n",
              "      <td>10</td>\n",
              "      <td>1</td>\n",
              "      <td>14</td>\n",
              "      <td>NaN</td>\n",
              "    </tr>\n",
              "    <tr>\n",
              "      <th>3</th>\n",
              "      <td>116423</td>\n",
              "      <td>Casetta a 12km da lago d'iseo</td>\n",
              "      <td>588254</td>\n",
              "      <td>Angela</td>\n",
              "      <td>NaN</td>\n",
              "      <td>Bossico</td>\n",
              "      <td>45.82840</td>\n",
              "      <td>10.04476</td>\n",
              "      <td>Entire home/apt</td>\n",
              "      <td>62</td>\n",
              "      <td>7</td>\n",
              "      <td>8</td>\n",
              "      <td>2019-11-03</td>\n",
              "      <td>0.18</td>\n",
              "      <td>3</td>\n",
              "      <td>292</td>\n",
              "      <td>0</td>\n",
              "      <td>CIR 016033-CNI-00002T00146</td>\n",
              "    </tr>\n",
              "    <tr>\n",
              "      <th>4</th>\n",
              "      <td>179345</td>\n",
              "      <td>Bossico Vicino a Montisola  e lago D'iseo</td>\n",
              "      <td>588254</td>\n",
              "      <td>Angela</td>\n",
              "      <td>NaN</td>\n",
              "      <td>Bossico</td>\n",
              "      <td>45.82723</td>\n",
              "      <td>10.04484</td>\n",
              "      <td>Entire home/apt</td>\n",
              "      <td>60</td>\n",
              "      <td>7</td>\n",
              "      <td>11</td>\n",
              "      <td>2021-09-30</td>\n",
              "      <td>0.25</td>\n",
              "      <td>3</td>\n",
              "      <td>292</td>\n",
              "      <td>1</td>\n",
              "      <td>CIR 016033-CNI-00002T00146</td>\n",
              "    </tr>\n",
              "  </tbody>\n",
              "</table>\n",
              "</div>\n",
              "      <button class=\"colab-df-convert\" onclick=\"convertToInteractive('df-9ed31b6d-e662-4fd5-a9be-feeafab216c6')\"\n",
              "              title=\"Convert this dataframe to an interactive table.\"\n",
              "              style=\"display:none;\">\n",
              "        \n",
              "  <svg xmlns=\"http://www.w3.org/2000/svg\" height=\"24px\"viewBox=\"0 0 24 24\"\n",
              "       width=\"24px\">\n",
              "    <path d=\"M0 0h24v24H0V0z\" fill=\"none\"/>\n",
              "    <path d=\"M18.56 5.44l.94 2.06.94-2.06 2.06-.94-2.06-.94-.94-2.06-.94 2.06-2.06.94zm-11 1L8.5 8.5l.94-2.06 2.06-.94-2.06-.94L8.5 2.5l-.94 2.06-2.06.94zm10 10l.94 2.06.94-2.06 2.06-.94-2.06-.94-.94-2.06-.94 2.06-2.06.94z\"/><path d=\"M17.41 7.96l-1.37-1.37c-.4-.4-.92-.59-1.43-.59-.52 0-1.04.2-1.43.59L10.3 9.45l-7.72 7.72c-.78.78-.78 2.05 0 2.83L4 21.41c.39.39.9.59 1.41.59.51 0 1.02-.2 1.41-.59l7.78-7.78 2.81-2.81c.8-.78.8-2.07 0-2.86zM5.41 20L4 18.59l7.72-7.72 1.47 1.35L5.41 20z\"/>\n",
              "  </svg>\n",
              "      </button>\n",
              "      \n",
              "  <style>\n",
              "    .colab-df-container {\n",
              "      display:flex;\n",
              "      flex-wrap:wrap;\n",
              "      gap: 12px;\n",
              "    }\n",
              "\n",
              "    .colab-df-convert {\n",
              "      background-color: #E8F0FE;\n",
              "      border: none;\n",
              "      border-radius: 50%;\n",
              "      cursor: pointer;\n",
              "      display: none;\n",
              "      fill: #1967D2;\n",
              "      height: 32px;\n",
              "      padding: 0 0 0 0;\n",
              "      width: 32px;\n",
              "    }\n",
              "\n",
              "    .colab-df-convert:hover {\n",
              "      background-color: #E2EBFA;\n",
              "      box-shadow: 0px 1px 2px rgba(60, 64, 67, 0.3), 0px 1px 3px 1px rgba(60, 64, 67, 0.15);\n",
              "      fill: #174EA6;\n",
              "    }\n",
              "\n",
              "    [theme=dark] .colab-df-convert {\n",
              "      background-color: #3B4455;\n",
              "      fill: #D2E3FC;\n",
              "    }\n",
              "\n",
              "    [theme=dark] .colab-df-convert:hover {\n",
              "      background-color: #434B5C;\n",
              "      box-shadow: 0px 1px 3px 1px rgba(0, 0, 0, 0.15);\n",
              "      filter: drop-shadow(0px 1px 2px rgba(0, 0, 0, 0.3));\n",
              "      fill: #FFFFFF;\n",
              "    }\n",
              "  </style>\n",
              "\n",
              "      <script>\n",
              "        const buttonEl =\n",
              "          document.querySelector('#df-9ed31b6d-e662-4fd5-a9be-feeafab216c6 button.colab-df-convert');\n",
              "        buttonEl.style.display =\n",
              "          google.colab.kernel.accessAllowed ? 'block' : 'none';\n",
              "\n",
              "        async function convertToInteractive(key) {\n",
              "          const element = document.querySelector('#df-9ed31b6d-e662-4fd5-a9be-feeafab216c6');\n",
              "          const dataTable =\n",
              "            await google.colab.kernel.invokeFunction('convertToInteractive',\n",
              "                                                     [key], {});\n",
              "          if (!dataTable) return;\n",
              "\n",
              "          const docLinkHtml = 'Like what you see? Visit the ' +\n",
              "            '<a target=\"_blank\" href=https://colab.research.google.com/notebooks/data_table.ipynb>data table notebook</a>'\n",
              "            + ' to learn more about interactive tables.';\n",
              "          element.innerHTML = '';\n",
              "          dataTable['output_type'] = 'display_data';\n",
              "          await google.colab.output.renderOutput(dataTable, element);\n",
              "          const docLink = document.createElement('div');\n",
              "          docLink.innerHTML = docLinkHtml;\n",
              "          element.appendChild(docLink);\n",
              "        }\n",
              "      </script>\n",
              "    </div>\n",
              "  </div>\n",
              "  "
            ]
          },
          "metadata": {},
          "execution_count": 3
        }
      ]
    },
    {
      "cell_type": "markdown",
      "metadata": {
        "id": "6-B_qtEaYEd-"
      },
      "source": [
        "### **Q1. Quantos atributos (variáveis) e quantas entradas o nosso conjunto de dados possui? Quais os tipos das variáveis?**\n",
        "\n",
        "Para o conjunto de dados escolhidos, `listing.csv`, que é um *Summary* há 18 variáveis no dataset e 2243 valores de entradas. "
      ]
    },
    {
      "cell_type": "code",
      "metadata": {
        "id": "TFRK0tniLV-G",
        "colab": {
          "base_uri": "https://localhost:8080/",
          "height": 419
        },
        "outputId": "96ef1e74-fb7c-432b-fba9-02ad5a83d0ee"
      },
      "source": [
        "# identificar o volume de dados do DataFrame\n",
        "print(\"Entradas: {}\".format(df.shape[0]))\n",
        "print(\"Variáveis: {}\\n\".format(df.shape[1]))\n",
        "\n",
        "# verificar as 5 primeiras entradas do dataset\n",
        "display(df.dtypes)"
      ],
      "execution_count": null,
      "outputs": [
        {
          "output_type": "stream",
          "name": "stdout",
          "text": [
            "Entradas: 2243\n",
            "Variáveis: 18\n",
            "\n"
          ]
        },
        {
          "output_type": "display_data",
          "data": {
            "text/plain": [
              "id                                  int64\n",
              "name                               object\n",
              "host_id                             int64\n",
              "host_name                          object\n",
              "neighbourhood_group               float64\n",
              "neighbourhood                      object\n",
              "latitude                          float64\n",
              "longitude                         float64\n",
              "room_type                          object\n",
              "price                               int64\n",
              "minimum_nights                      int64\n",
              "number_of_reviews                   int64\n",
              "last_review                        object\n",
              "reviews_per_month                 float64\n",
              "calculated_host_listings_count      int64\n",
              "availability_365                    int64\n",
              "number_of_reviews_ltm               int64\n",
              "license                            object\n",
              "dtype: object"
            ]
          },
          "metadata": {}
        }
      ]
    },
    {
      "cell_type": "markdown",
      "metadata": {
        "id": "yz1urSUGW9iE"
      },
      "source": [
        "### **Q2. Qual a porcentagem de valores ausentes no *dataset*?**\n",
        "\n",
        "Saber a quantidade de valores nulos em um dataset é importante para saber quais variáveis não iremos considerar na análise.\n",
        "\n",
        "* `neighbourhood_group` - não possui valor nenhum, 100% dos valores estão faltando.\n",
        "* `license` - tem 81% de valores nulos.\n",
        "* `reviews_per_month` e `last_review` as duas variáveis apresentam a mesma quantidade de valores faltantes, quase 21%.\n",
        "\n",
        "A variável `host_name` é a ultima que apresenta valores faltantes: 0,09%; como o valor é baixo ela pode ser considerada na análise."
      ]
    },
    {
      "cell_type": "code",
      "metadata": {
        "id": "plk2FjbCXOqP",
        "colab": {
          "base_uri": "https://localhost:8080/"
        },
        "outputId": "19b2ea86-cf5a-443e-8e94-24c9c8adf63f"
      },
      "source": [
        "# ordenar em ordem decrescente as variáveis por seus valores ausentes\n",
        "(df.isnull().sum() / df.shape[0]).sort_values(ascending=False)"
      ],
      "execution_count": null,
      "outputs": [
        {
          "output_type": "execute_result",
          "data": {
            "text/plain": [
              "neighbourhood_group               1.000000\n",
              "license                           0.812751\n",
              "reviews_per_month                 0.205974\n",
              "last_review                       0.205974\n",
              "host_name                         0.000892\n",
              "minimum_nights                    0.000000\n",
              "number_of_reviews_ltm             0.000000\n",
              "availability_365                  0.000000\n",
              "calculated_host_listings_count    0.000000\n",
              "number_of_reviews                 0.000000\n",
              "id                                0.000000\n",
              "name                              0.000000\n",
              "room_type                         0.000000\n",
              "longitude                         0.000000\n",
              "latitude                          0.000000\n",
              "neighbourhood                     0.000000\n",
              "host_id                           0.000000\n",
              "price                             0.000000\n",
              "dtype: float64"
            ]
          },
          "metadata": {},
          "execution_count": 5
        }
      ]
    },
    {
      "cell_type": "markdown",
      "metadata": {
        "id": "iHXvvHIxaoNc"
      },
      "source": [
        "### **Q3. Qual o tipo de distribuição das variáveis?**\n",
        "\n",
        "Para observar melhor as variáveis numéricas do dataset, será feito um histograma destas."
      ]
    },
    {
      "cell_type": "code",
      "metadata": {
        "id": "q2wWSfeRbmBo",
        "colab": {
          "base_uri": "https://localhost:8080/",
          "height": 607
        },
        "outputId": "3213d53c-efde-4330-dac3-aac933222c7f"
      },
      "source": [
        "# plotar o histograma das variáveis numéricas\n",
        "df.hist(bins=15, figsize=(15,10));"
      ],
      "execution_count": null,
      "outputs": [
        {
          "output_type": "display_data",
          "data": {
            "text/plain": [
              "<Figure size 1080x720 with 12 Axes>"
            ],
            "image/png": "[encoded data removed]"
          },
          "metadata": {
            "needs_background": "light"
          }
        }
      ]
    },
    {
      "cell_type": "markdown",
      "source": [
        "A partir dos histogramas plotados podem ser observados valores de *outliers* para as variáveis `price`, `minimum_nights` e `calculated_host_listings_count` e que será necessário retirá-los do dataset de forma que estes não influenciem na avaliação.\n",
        "\n",
        "Será realizado um resumo estatístico e boxplots dessas variáveis para observar melhor a influência dos *outliers*."
      ],
      "metadata": {
        "id": "cfv5BXlQ7269"
      }
    },
    {
      "cell_type": "code",
      "source": [
        "df[['price', 'minimum_nights']].describe()"
      ],
      "metadata": {
        "colab": {
          "base_uri": "https://localhost:8080/",
          "height": 300
        },
        "id": "AgHqL8d2_ID2",
        "outputId": "75e66f33-1cdc-45e6-b0b8-9c4ce3ceadd2"
      },
      "execution_count": null,
      "outputs": [
        {
          "output_type": "execute_result",
          "data": {
            "text/plain": [
              "             price  minimum_nights\n",
              "count  2243.000000     2243.000000\n",
              "mean    125.484619        4.594739\n",
              "std     498.085691       30.844063\n",
              "min       9.000000        1.000000\n",
              "25%      50.000000        1.000000\n",
              "50%      70.000000        2.000000\n",
              "75%     104.500000        3.000000\n",
              "max    7999.000000     1124.000000"
            ],
            "text/html": [
              "\n",
              "  <div id=\"df-f8f4e9df-6162-4e01-ab2f-f47fc11e6f62\">\n",
              "    <div class=\"colab-df-container\">\n",
              "      <div>\n",
              "<style scoped>\n",
              "    .dataframe tbody tr th:only-of-type {\n",
              "        vertical-align: middle;\n",
              "    }\n",
              "\n",
              "    .dataframe tbody tr th {\n",
              "        vertical-align: top;\n",
              "    }\n",
              "\n",
              "    .dataframe thead th {\n",
              "        text-align: right;\n",
              "    }\n",
              "</style>\n",
              "<table border=\"1\" class=\"dataframe\">\n",
              "  <thead>\n",
              "    <tr style=\"text-align: right;\">\n",
              "      <th></th>\n",
              "      <th>price</th>\n",
              "      <th>minimum_nights</th>\n",
              "    </tr>\n",
              "  </thead>\n",
              "  <tbody>\n",
              "    <tr>\n",
              "      <th>count</th>\n",
              "      <td>2243.000000</td>\n",
              "      <td>2243.000000</td>\n",
              "    </tr>\n",
              "    <tr>\n",
              "      <th>mean</th>\n",
              "      <td>125.484619</td>\n",
              "      <td>4.594739</td>\n",
              "    </tr>\n",
              "    <tr>\n",
              "      <th>std</th>\n",
              "      <td>498.085691</td>\n",
              "      <td>30.844063</td>\n",
              "    </tr>\n",
              "    <tr>\n",
              "      <th>min</th>\n",
              "      <td>9.000000</td>\n",
              "      <td>1.000000</td>\n",
              "    </tr>\n",
              "    <tr>\n",
              "      <th>25%</th>\n",
              "      <td>50.000000</td>\n",
              "      <td>1.000000</td>\n",
              "    </tr>\n",
              "    <tr>\n",
              "      <th>50%</th>\n",
              "      <td>70.000000</td>\n",
              "      <td>2.000000</td>\n",
              "    </tr>\n",
              "    <tr>\n",
              "      <th>75%</th>\n",
              "      <td>104.500000</td>\n",
              "      <td>3.000000</td>\n",
              "    </tr>\n",
              "    <tr>\n",
              "      <th>max</th>\n",
              "      <td>7999.000000</td>\n",
              "      <td>1124.000000</td>\n",
              "    </tr>\n",
              "  </tbody>\n",
              "</table>\n",
              "</div>\n",
              "      <button class=\"colab-df-convert\" onclick=\"convertToInteractive('df-f8f4e9df-6162-4e01-ab2f-f47fc11e6f62')\"\n",
              "              title=\"Convert this dataframe to an interactive table.\"\n",
              "              style=\"display:none;\">\n",
              "        \n",
              "  <svg xmlns=\"http://www.w3.org/2000/svg\" height=\"24px\"viewBox=\"0 0 24 24\"\n",
              "       width=\"24px\">\n",
              "    <path d=\"M0 0h24v24H0V0z\" fill=\"none\"/>\n",
              "    <path d=\"M18.56 5.44l.94 2.06.94-2.06 2.06-.94-2.06-.94-.94-2.06-.94 2.06-2.06.94zm-11 1L8.5 8.5l.94-2.06 2.06-.94-2.06-.94L8.5 2.5l-.94 2.06-2.06.94zm10 10l.94 2.06.94-2.06 2.06-.94-2.06-.94-.94-2.06-.94 2.06-2.06.94z\"/><path d=\"M17.41 7.96l-1.37-1.37c-.4-.4-.92-.59-1.43-.59-.52 0-1.04.2-1.43.59L10.3 9.45l-7.72 7.72c-.78.78-.78 2.05 0 2.83L4 21.41c.39.39.9.59 1.41.59.51 0 1.02-.2 1.41-.59l7.78-7.78 2.81-2.81c.8-.78.8-2.07 0-2.86zM5.41 20L4 18.59l7.72-7.72 1.47 1.35L5.41 20z\"/>\n",
              "  </svg>\n",
              "      </button>\n",
              "      \n",
              "  <style>\n",
              "    .colab-df-container {\n",
              "      display:flex;\n",
              "      flex-wrap:wrap;\n",
              "      gap: 12px;\n",
              "    }\n",
              "\n",
              "    .colab-df-convert {\n",
              "      background-color: #E8F0FE;\n",
              "      border: none;\n",
              "      border-radius: 50%;\n",
              "      cursor: pointer;\n",
              "      display: none;\n",
              "      fill: #1967D2;\n",
              "      height: 32px;\n",
              "      padding: 0 0 0 0;\n",
              "      width: 32px;\n",
              "    }\n",
              "\n",
              "    .colab-df-convert:hover {\n",
              "      background-color: #E2EBFA;\n",
              "      box-shadow: 0px 1px 2px rgba(60, 64, 67, 0.3), 0px 1px 3px 1px rgba(60, 64, 67, 0.15);\n",
              "      fill: #174EA6;\n",
              "    }\n",
              "\n",
              "    [theme=dark] .colab-df-convert {\n",
              "      background-color: #3B4455;\n",
              "      fill: #D2E3FC;\n",
              "    }\n",
              "\n",
              "    [theme=dark] .colab-df-convert:hover {\n",
              "      background-color: #434B5C;\n",
              "      box-shadow: 0px 1px 3px 1px rgba(0, 0, 0, 0.15);\n",
              "      filter: drop-shadow(0px 1px 2px rgba(0, 0, 0, 0.3));\n",
              "      fill: #FFFFFF;\n",
              "    }\n",
              "  </style>\n",
              "\n",
              "      <script>\n",
              "        const buttonEl =\n",
              "          document.querySelector('#df-f8f4e9df-6162-4e01-ab2f-f47fc11e6f62 button.colab-df-convert');\n",
              "        buttonEl.style.display =\n",
              "          google.colab.kernel.accessAllowed ? 'block' : 'none';\n",
              "\n",
              "        async function convertToInteractive(key) {\n",
              "          const element = document.querySelector('#df-f8f4e9df-6162-4e01-ab2f-f47fc11e6f62');\n",
              "          const dataTable =\n",
              "            await google.colab.kernel.invokeFunction('convertToInteractive',\n",
              "                                                     [key], {});\n",
              "          if (!dataTable) return;\n",
              "\n",
              "          const docLinkHtml = 'Like what you see? Visit the ' +\n",
              "            '<a target=\"_blank\" href=https://colab.research.google.com/notebooks/data_table.ipynb>data table notebook</a>'\n",
              "            + ' to learn more about interactive tables.';\n",
              "          element.innerHTML = '';\n",
              "          dataTable['output_type'] = 'display_data';\n",
              "          await google.colab.output.renderOutput(dataTable, element);\n",
              "          const docLink = document.createElement('div');\n",
              "          docLink.innerHTML = docLinkHtml;\n",
              "          element.appendChild(docLink);\n",
              "        }\n",
              "      </script>\n",
              "    </div>\n",
              "  </div>\n",
              "  "
            ]
          },
          "metadata": {},
          "execution_count": 7
        }
      ]
    },
    {
      "cell_type": "markdown",
      "source": [
        "Pode ser observado que 75% dos valores para a variável `price` estão abaixo de 104,5 euros e que 75% das pessoas não alugam mais que 3 noites.\n",
        "Também observa-se que os valores máximos para `price` e `minimum_nights` são 7.999,00 euros e 1124 dias, respectivamente."
      ],
      "metadata": {
        "id": "uef71RI9HV97"
      }
    },
    {
      "cell_type": "markdown",
      "source": [
        "#### Boxplots"
      ],
      "metadata": {
        "id": "IC3P7donInf9"
      }
    },
    {
      "cell_type": "code",
      "source": [
        "# Boxplot minimum_nights\n",
        "df.minimum_nights.plot(kind='box', vert=False, figsize=(15, 3))\n",
        "plt.show()\n",
        "\n",
        "# Quantidade de valores acima de 30 dias e sua porcentagem nos dados\n",
        "print(\"minimum_nights: > 30 dias:\")\n",
        "print(\"{} entradas\".format(len(df[df.minimum_nights > 30])))\n",
        "print(\"{:.4f}%\".format((len(df[df.minimum_nights > 30]) / df.shape[0]*100)))"
      ],
      "metadata": {
        "colab": {
          "base_uri": "https://localhost:8080/",
          "height": 265
        },
        "id": "2QrXRj2TIv0f",
        "outputId": "c02da467-6c3f-4c41-bdb5-04e599637f9e"
      },
      "execution_count": null,
      "outputs": [
        {
          "output_type": "display_data",
          "data": {
            "text/plain": [
              "<Figure size 1080x216 with 1 Axes>"
            ],
            "image/png": "[encoded data removed]"
          },
          "metadata": {
            "needs_background": "light"
          }
        },
        {
          "output_type": "stream",
          "name": "stdout",
          "text": [
            "minimum_nights: > 30 dias:\n",
            "18 entradas\n",
            "0.8025%\n"
          ]
        }
      ]
    },
    {
      "cell_type": "code",
      "source": [
        "# Boxplot price\n",
        "df.price.plot(kind='box', vert=False, figsize=(15, 3))\n",
        "plt.show()\n",
        "\n",
        "# Valores acima de 650 euros \n",
        "print(\"price: acima de 650 euros\")\n",
        "print(\"{} entradas\".format(len(df[df.price > 650])))\n",
        "print(\"{:.4f}%\".format((len(df[df.price > 650]) / df.shape[0]*100)))"
      ],
      "metadata": {
        "colab": {
          "base_uri": "https://localhost:8080/",
          "height": 265
        },
        "id": "G4rcJLZSG9aS",
        "outputId": "790b4f29-78ed-480e-9a6b-7f8214325975"
      },
      "execution_count": null,
      "outputs": [
        {
          "output_type": "display_data",
          "data": {
            "text/plain": [
              "<Figure size 1080x216 with 1 Axes>"
            ],
            "image/png": "[encoded data removed]"
          },
          "metadata": {
            "needs_background": "light"
          }
        },
        {
          "output_type": "stream",
          "name": "stdout",
          "text": [
            "price: acima de 650 euros\n",
            "21 entradas\n",
            "0.9362%\n"
          ]
        }
      ]
    },
    {
      "cell_type": "markdown",
      "source": [
        "Vemos que para a variável `minimum_nights` há 18 valores para reservas acima de 30 dias, o que representa 0,80% dos valores do dataset, e que para a variável `price` há 21 valores, 0,94%, acima de 650 euros.\n",
        "\n",
        "Essas informações auxiliam em quais pontos podem ser feitas as retiradas dos *outliers*."
      ],
      "metadata": {
        "id": "frAAo9PfLdSl"
      }
    },
    {
      "cell_type": "markdown",
      "source": [
        "#### Limpando o Dataset"
      ],
      "metadata": {
        "id": "QfeHzSEVM_2p"
      }
    },
    {
      "cell_type": "code",
      "source": [
        "# Removendo os outliers\n",
        "df_clear = df.copy()\n",
        "df_clear.drop(df_clear[df_clear.price > 650].index, axis=0, inplace=True)\n",
        "df_clear.drop(df_clear[df_clear.minimum_nights > 30].index, axis=0, inplace=True)\n",
        "\n",
        "# Como o neighbourhood_group está vazio, iremos excluí-lo\n",
        "df_clear.drop('neighbourhood_group', axis=1, inplace=True)\n",
        "\n",
        "# Plotando o histograma com as modificações feitas\n",
        "df_clear.hist(bins=15, figsize=(15,10));"
      ],
      "metadata": {
        "colab": {
          "base_uri": "https://localhost:8080/",
          "height": 607
        },
        "id": "PGpRMWdQNFY5",
        "outputId": "efd665fb-5030-48fb-d850-57455f11198a"
      },
      "execution_count": null,
      "outputs": [
        {
          "output_type": "display_data",
          "data": {
            "text/plain": [
              "<Figure size 1080x720 with 12 Axes>"
            ],
            "image/png": "[encoded data removed]"
          },
          "metadata": {
            "needs_background": "light"
          }
        }
      ]
    },
    {
      "cell_type": "markdown",
      "metadata": {
        "id": "7x4aw1j5wNmn"
      },
      "source": [
        "### **Q4. Qual a média dos preços de aluguel?**"
      ]
    },
    {
      "cell_type": "code",
      "metadata": {
        "id": "ff-8gUahLk-C",
        "colab": {
          "base_uri": "https://localhost:8080/"
        },
        "outputId": "2b8341e3-a84e-45ae-daca-831c111508ba"
      },
      "source": [
        "# ver a média da coluna `price`\n",
        "print(\"média_price:\")\n",
        "df_clear['price'].mean()"
      ],
      "execution_count": null,
      "outputs": [
        {
          "output_type": "stream",
          "name": "stdout",
          "text": [
            "média_price:\n"
          ]
        },
        {
          "output_type": "execute_result",
          "data": {
            "text/plain": [
              "89.6882940108893"
            ]
          },
          "metadata": {},
          "execution_count": 54
        }
      ]
    },
    {
      "cell_type": "markdown",
      "source": [
        "Nota-se a influência dos *outliers* na variável `price` ao comparar o valor da média antes, 125,50 euros, e depois, 89,70, da limpeza do *dataset*, uma diferença de 28,5%."
      ],
      "metadata": {
        "id": "eZ6z_8NcSfqX"
      }
    },
    {
      "cell_type": "markdown",
      "metadata": {
        "id": "IXn2oIo5qx-w"
      },
      "source": [
        "### **Q5. Qual a correlação existente entre as variáveis**"
      ]
    },
    {
      "cell_type": "markdown",
      "source": [
        "A correlação expressa se há ou não uma relação entre duas ou mais variáveis. A partir do gráfico de *heatmap* é possível ver essas relações de forma rápida."
      ],
      "metadata": {
        "id": "hA1HoUgRTxx8"
      }
    },
    {
      "cell_type": "code",
      "metadata": {
        "id": "x2ayzBajqxyd",
        "colab": {
          "base_uri": "https://localhost:8080/",
          "height": 301
        },
        "outputId": "49bec2ab-5445-4bca-831b-70680446623a"
      },
      "source": [
        "# criar uma matriz de correlação\n",
        "correlacao = df_clear[['price', 'minimum_nights', 'number_of_reviews', 'reviews_per_month', 'calculated_host_listings_count', 'availability_365']].corr()\n",
        "# mostrar a matriz de correlação\n",
        "display (correlacao)"
      ],
      "execution_count": null,
      "outputs": [
        {
          "output_type": "display_data",
          "data": {
            "text/plain": [
              "                                   price  minimum_nights  number_of_reviews  \\\n",
              "price                           1.000000       -0.085811          -0.120254   \n",
              "minimum_nights                 -0.085811        1.000000          -0.116380   \n",
              "number_of_reviews              -0.120254       -0.116380           1.000000   \n",
              "reviews_per_month              -0.141607       -0.159843           0.678447   \n",
              "calculated_host_listings_count  0.211771       -0.055715          -0.065643   \n",
              "availability_365                0.138278       -0.028326           0.008481   \n",
              "\n",
              "                                reviews_per_month  \\\n",
              "price                                   -0.141607   \n",
              "minimum_nights                          -0.159843   \n",
              "number_of_reviews                        0.678447   \n",
              "reviews_per_month                        1.000000   \n",
              "calculated_host_listings_count          -0.030946   \n",
              "availability_365                         0.069887   \n",
              "\n",
              "                                calculated_host_listings_count  \\\n",
              "price                                                 0.211771   \n",
              "minimum_nights                                       -0.055715   \n",
              "number_of_reviews                                    -0.065643   \n",
              "reviews_per_month                                    -0.030946   \n",
              "calculated_host_listings_count                        1.000000   \n",
              "availability_365                                      0.157410   \n",
              "\n",
              "                                availability_365  \n",
              "price                                   0.138278  \n",
              "minimum_nights                         -0.028326  \n",
              "number_of_reviews                       0.008481  \n",
              "reviews_per_month                       0.069887  \n",
              "calculated_host_listings_count          0.157410  \n",
              "availability_365                        1.000000  "
            ],
            "text/html": [
              "\n",
              "  <div id=\"df-3af67edb-5fa8-43b3-a12d-d5d17bd17f21\">\n",
              "    <div class=\"colab-df-container\">\n",
              "      <div>\n",
              "<style scoped>\n",
              "    .dataframe tbody tr th:only-of-type {\n",
              "        vertical-align: middle;\n",
              "    }\n",
              "\n",
              "    .dataframe tbody tr th {\n",
              "        vertical-align: top;\n",
              "    }\n",
              "\n",
              "    .dataframe thead th {\n",
              "        text-align: right;\n",
              "    }\n",
              "</style>\n",
              "<table border=\"1\" class=\"dataframe\">\n",
              "  <thead>\n",
              "    <tr style=\"text-align: right;\">\n",
              "      <th></th>\n",
              "      <th>price</th>\n",
              "      <th>minimum_nights</th>\n",
              "      <th>number_of_reviews</th>\n",
              "      <th>reviews_per_month</th>\n",
              "      <th>calculated_host_listings_count</th>\n",
              "      <th>availability_365</th>\n",
              "    </tr>\n",
              "  </thead>\n",
              "  <tbody>\n",
              "    <tr>\n",
              "      <th>price</th>\n",
              "      <td>1.000000</td>\n",
              "      <td>-0.085811</td>\n",
              "      <td>-0.120254</td>\n",
              "      <td>-0.141607</td>\n",
              "      <td>0.211771</td>\n",
              "      <td>0.138278</td>\n",
              "    </tr>\n",
              "    <tr>\n",
              "      <th>minimum_nights</th>\n",
              "      <td>-0.085811</td>\n",
              "      <td>1.000000</td>\n",
              "      <td>-0.116380</td>\n",
              "      <td>-0.159843</td>\n",
              "      <td>-0.055715</td>\n",
              "      <td>-0.028326</td>\n",
              "    </tr>\n",
              "    <tr>\n",
              "      <th>number_of_reviews</th>\n",
              "      <td>-0.120254</td>\n",
              "      <td>-0.116380</td>\n",
              "      <td>1.000000</td>\n",
              "      <td>0.678447</td>\n",
              "      <td>-0.065643</td>\n",
              "      <td>0.008481</td>\n",
              "    </tr>\n",
              "    <tr>\n",
              "      <th>reviews_per_month</th>\n",
              "      <td>-0.141607</td>\n",
              "      <td>-0.159843</td>\n",
              "      <td>0.678447</td>\n",
              "      <td>1.000000</td>\n",
              "      <td>-0.030946</td>\n",
              "      <td>0.069887</td>\n",
              "    </tr>\n",
              "    <tr>\n",
              "      <th>calculated_host_listings_count</th>\n",
              "      <td>0.211771</td>\n",
              "      <td>-0.055715</td>\n",
              "      <td>-0.065643</td>\n",
              "      <td>-0.030946</td>\n",
              "      <td>1.000000</td>\n",
              "      <td>0.157410</td>\n",
              "    </tr>\n",
              "    <tr>\n",
              "      <th>availability_365</th>\n",
              "      <td>0.138278</td>\n",
              "      <td>-0.028326</td>\n",
              "      <td>0.008481</td>\n",
              "      <td>0.069887</td>\n",
              "      <td>0.157410</td>\n",
              "      <td>1.000000</td>\n",
              "    </tr>\n",
              "  </tbody>\n",
              "</table>\n",
              "</div>\n",
              "      <button class=\"colab-df-convert\" onclick=\"convertToInteractive('df-3af67edb-5fa8-43b3-a12d-d5d17bd17f21')\"\n",
              "              title=\"Convert this dataframe to an interactive table.\"\n",
              "              style=\"display:none;\">\n",
              "        \n",
              "  <svg xmlns=\"http://www.w3.org/2000/svg\" height=\"24px\"viewBox=\"0 0 24 24\"\n",
              "       width=\"24px\">\n",
              "    <path d=\"M0 0h24v24H0V0z\" fill=\"none\"/>\n",
              "    <path d=\"M18.56 5.44l.94 2.06.94-2.06 2.06-.94-2.06-.94-.94-2.06-.94 2.06-2.06.94zm-11 1L8.5 8.5l.94-2.06 2.06-.94-2.06-.94L8.5 2.5l-.94 2.06-2.06.94zm10 10l.94 2.06.94-2.06 2.06-.94-2.06-.94-.94-2.06-.94 2.06-2.06.94z\"/><path d=\"M17.41 7.96l-1.37-1.37c-.4-.4-.92-.59-1.43-.59-.52 0-1.04.2-1.43.59L10.3 9.45l-7.72 7.72c-.78.78-.78 2.05 0 2.83L4 21.41c.39.39.9.59 1.41.59.51 0 1.02-.2 1.41-.59l7.78-7.78 2.81-2.81c.8-.78.8-2.07 0-2.86zM5.41 20L4 18.59l7.72-7.72 1.47 1.35L5.41 20z\"/>\n",
              "  </svg>\n",
              "      </button>\n",
              "      \n",
              "  <style>\n",
              "    .colab-df-container {\n",
              "      display:flex;\n",
              "      flex-wrap:wrap;\n",
              "      gap: 12px;\n",
              "    }\n",
              "\n",
              "    .colab-df-convert {\n",
              "      background-color: #E8F0FE;\n",
              "      border: none;\n",
              "      border-radius: 50%;\n",
              "      cursor: pointer;\n",
              "      display: none;\n",
              "      fill: #1967D2;\n",
              "      height: 32px;\n",
              "      padding: 0 0 0 0;\n",
              "      width: 32px;\n",
              "    }\n",
              "\n",
              "    .colab-df-convert:hover {\n",
              "      background-color: #E2EBFA;\n",
              "      box-shadow: 0px 1px 2px rgba(60, 64, 67, 0.3), 0px 1px 3px 1px rgba(60, 64, 67, 0.15);\n",
              "      fill: #174EA6;\n",
              "    }\n",
              "\n",
              "    [theme=dark] .colab-df-convert {\n",
              "      background-color: #3B4455;\n",
              "      fill: #D2E3FC;\n",
              "    }\n",
              "\n",
              "    [theme=dark] .colab-df-convert:hover {\n",
              "      background-color: #434B5C;\n",
              "      box-shadow: 0px 1px 3px 1px rgba(0, 0, 0, 0.15);\n",
              "      filter: drop-shadow(0px 1px 2px rgba(0, 0, 0, 0.3));\n",
              "      fill: #FFFFFF;\n",
              "    }\n",
              "  </style>\n",
              "\n",
              "      <script>\n",
              "        const buttonEl =\n",
              "          document.querySelector('#df-3af67edb-5fa8-43b3-a12d-d5d17bd17f21 button.colab-df-convert');\n",
              "        buttonEl.style.display =\n",
              "          google.colab.kernel.accessAllowed ? 'block' : 'none';\n",
              "\n",
              "        async function convertToInteractive(key) {\n",
              "          const element = document.querySelector('#df-3af67edb-5fa8-43b3-a12d-d5d17bd17f21');\n",
              "          const dataTable =\n",
              "            await google.colab.kernel.invokeFunction('convertToInteractive',\n",
              "                                                     [key], {});\n",
              "          if (!dataTable) return;\n",
              "\n",
              "          const docLinkHtml = 'Like what you see? Visit the ' +\n",
              "            '<a target=\"_blank\" href=https://colab.research.google.com/notebooks/data_table.ipynb>data table notebook</a>'\n",
              "            + ' to learn more about interactive tables.';\n",
              "          element.innerHTML = '';\n",
              "          dataTable['output_type'] = 'display_data';\n",
              "          await google.colab.output.renderOutput(dataTable, element);\n",
              "          const docLink = document.createElement('div');\n",
              "          docLink.innerHTML = docLinkHtml;\n",
              "          element.appendChild(docLink);\n",
              "        }\n",
              "      </script>\n",
              "    </div>\n",
              "  </div>\n",
              "  "
            ]
          },
          "metadata": {}
        }
      ]
    },
    {
      "cell_type": "code",
      "metadata": {
        "id": "91UujDr6ueqE",
        "colab": {
          "base_uri": "https://localhost:8080/",
          "height": 411
        },
        "outputId": "1ef98d1c-478c-4509-a73e-1e9c55cfce14"
      },
      "source": [
        "# plotar um heatmap a partir das correlações\n",
        "sns.heatmap(correlacao, cmap='RdBu', fmt='.2f', square=True, linecolor='white', annot=True);"
      ],
      "execution_count": null,
      "outputs": [
        {
          "output_type": "display_data",
          "data": {
            "text/plain": [
              "<Figure size 432x288 with 2 Axes>"
            ],
            "image/png": "[encoded data removed]"
          },
          "metadata": {
            "needs_background": "light"
          }
        }
      ]
    },
    {
      "cell_type": "markdown",
      "source": [
        "Conforme pode ser visto, não há nenhuma forte correlação entre as variáveis númericas com as quais podem ser obtidas informações úteis."
      ],
      "metadata": {
        "id": "YSCT_cW6cglp"
      }
    },
    {
      "cell_type": "markdown",
      "metadata": {
        "id": "7b6RMWpuHKN-"
      },
      "source": [
        "### **Q6. Qual o tipo de imóvel mais alugado no Airbnb?**\n",
        "\n",
        "O Airbnb dá várias opções de reservas, a variável `room_type` apresenta os tipos de imóveis.\n",
        "\n",
        "Abaixo vemos a quantidade de reservas feitas em cada tipo imóvel. "
      ]
    },
    {
      "cell_type": "code",
      "metadata": {
        "id": "ueLPNWvPHgfB",
        "colab": {
          "base_uri": "https://localhost:8080/"
        },
        "outputId": "d478f17d-4494-43f7-c223-647c23637cd0"
      },
      "source": [
        "# mostrar a quantidade de cada tipo de imóvel disponível\n",
        "df_clear.room_type.value_counts()"
      ],
      "execution_count": null,
      "outputs": [
        {
          "output_type": "execute_result",
          "data": {
            "text/plain": [
              "Entire home/apt    1690\n",
              "Private room        470\n",
              "Hotel room           35\n",
              "Shared room           9\n",
              "Name: room_type, dtype: int64"
            ]
          },
          "metadata": {},
          "execution_count": 71
        }
      ]
    },
    {
      "cell_type": "code",
      "metadata": {
        "id": "EvwoO-XAHhIm",
        "colab": {
          "base_uri": "https://localhost:8080/"
        },
        "outputId": "c0adf6e5-2f96-405d-adcc-a69a193d74ce"
      },
      "source": [
        "# mostrar a porcentagem de cada tipo de imóvel disponível\n",
        "df_clear.room_type.value_counts() / df_clear.shape[0]"
      ],
      "execution_count": null,
      "outputs": [
        {
          "output_type": "execute_result",
          "data": {
            "text/plain": [
              "Entire home/apt    0.766788\n",
              "Private room       0.213249\n",
              "Hotel room         0.015880\n",
              "Shared room        0.004083\n",
              "Name: room_type, dtype: float64"
            ]
          },
          "metadata": {},
          "execution_count": 87
        }
      ]
    },
    {
      "cell_type": "markdown",
      "source": [
        "Os principais tipos de imóveis reservados são casas ou apartamentos inteiros, 76,6%, e o segundo são quartos privados, 21,3%."
      ],
      "metadata": {
        "id": "P10S0AqXpndQ"
      }
    },
    {
      "cell_type": "markdown",
      "metadata": {
        "id": "MFa5NbnLJMcd"
      },
      "source": [
        "### **Q6. Qual a localidade mais cara do dataset?**\n",
        "\n"
      ]
    },
    {
      "cell_type": "code",
      "metadata": {
        "id": "MD_xa143JZpi",
        "colab": {
          "base_uri": "https://localhost:8080/"
        },
        "outputId": "7c13d25a-9d2a-46dd-bcba-623ade773a07"
      },
      "source": [
        "# ver preços por bairros, na média\n",
        "df_clear.groupby(['neighbourhood']).price.mean().sort_values(ascending=False)[:10]"
      ],
      "execution_count": null,
      "outputs": [
        {
          "output_type": "execute_result",
          "data": {
            "text/plain": [
              "neighbourhood\n",
              "Almenno San Salvatore    500.000000\n",
              "Lurano                   330.000000\n",
              "Olmo al Brembo           250.000000\n",
              "Bianzano                 219.333333\n",
              "Mezzoldo                 207.000000\n",
              "Foresto Sparso           204.000000\n",
              "Gandino                  200.000000\n",
              "Roncola                  176.434783\n",
              "Sant'Omobono Terme       161.750000\n",
              "Bonate Sotto             156.000000\n",
              "Name: price, dtype: float64"
            ]
          },
          "metadata": {},
          "execution_count": 78
        }
      ]
    },
    {
      "cell_type": "markdown",
      "source": [
        "Acima é apresentado os 10 bairros com os maiores valores médios.\n",
        "\n",
        "Devido ao desconhecimento da região não é possível dizer se esses valores são representativos desses bairros, dessa forma é necessário saber o quanto esses imóveis são representativos, conforme abaixo."
      ],
      "metadata": {
        "id": "9ROl8Hk1389E"
      }
    },
    {
      "cell_type": "code",
      "source": [
        "print(df_clear[df_clear.neighbourhood == \"Almenno San Salvatore\"].shape)\n",
        "\n",
        "df_clear[df_clear.neighbourhood == \"Almenno San Salvatore\"]"
      ],
      "metadata": {
        "colab": {
          "base_uri": "https://localhost:8080/",
          "height": 302
        },
        "id": "tMXT8pCm1HT2",
        "outputId": "000b3a01-d03f-45e7-fe8a-21bcdb745d94"
      },
      "execution_count": null,
      "outputs": [
        {
          "output_type": "stream",
          "name": "stdout",
          "text": [
            "(1, 17)\n"
          ]
        },
        {
          "output_type": "execute_result",
          "data": {
            "text/plain": [
              "          id                                               name  host_id  \\\n",
              "167  4676241  Villa Vitalba-1700s house and winery 1h from M...  1853625   \n",
              "\n",
              "    host_name          neighbourhood   latitude  longitude        room_type  \\\n",
              "167    Carola  Almenno San Salvatore  45.749252    9.58557  Entire home/apt   \n",
              "\n",
              "     price  minimum_nights  number_of_reviews last_review  reviews_per_month  \\\n",
              "167    500               2                 41  2021-11-07               0.51   \n",
              "\n",
              "     calculated_host_listings_count  availability_365  number_of_reviews_ltm  \\\n",
              "167                               1               180                      5   \n",
              "\n",
              "    license  \n",
              "167     NaN  "
            ],
            "text/html": [
              "\n",
              "  <div id=\"df-a0f0aa67-b607-4482-a907-cdfa70ff51c6\">\n",
              "    <div class=\"colab-df-container\">\n",
              "      <div>\n",
              "<style scoped>\n",
              "    .dataframe tbody tr th:only-of-type {\n",
              "        vertical-align: middle;\n",
              "    }\n",
              "\n",
              "    .dataframe tbody tr th {\n",
              "        vertical-align: top;\n",
              "    }\n",
              "\n",
              "    .dataframe thead th {\n",
              "        text-align: right;\n",
              "    }\n",
              "</style>\n",
              "<table border=\"1\" class=\"dataframe\">\n",
              "  <thead>\n",
              "    <tr style=\"text-align: right;\">\n",
              "      <th></th>\n",
              "      <th>id</th>\n",
              "      <th>name</th>\n",
              "      <th>host_id</th>\n",
              "      <th>host_name</th>\n",
              "      <th>neighbourhood</th>\n",
              "      <th>latitude</th>\n",
              "      <th>longitude</th>\n",
              "      <th>room_type</th>\n",
              "      <th>price</th>\n",
              "      <th>minimum_nights</th>\n",
              "      <th>number_of_reviews</th>\n",
              "      <th>last_review</th>\n",
              "      <th>reviews_per_month</th>\n",
              "      <th>calculated_host_listings_count</th>\n",
              "      <th>availability_365</th>\n",
              "      <th>number_of_reviews_ltm</th>\n",
              "      <th>license</th>\n",
              "    </tr>\n",
              "  </thead>\n",
              "  <tbody>\n",
              "    <tr>\n",
              "      <th>167</th>\n",
              "      <td>4676241</td>\n",
              "      <td>Villa Vitalba-1700s house and winery 1h from M...</td>\n",
              "      <td>1853625</td>\n",
              "      <td>Carola</td>\n",
              "      <td>Almenno San Salvatore</td>\n",
              "      <td>45.749252</td>\n",
              "      <td>9.58557</td>\n",
              "      <td>Entire home/apt</td>\n",
              "      <td>500</td>\n",
              "      <td>2</td>\n",
              "      <td>41</td>\n",
              "      <td>2021-11-07</td>\n",
              "      <td>0.51</td>\n",
              "      <td>1</td>\n",
              "      <td>180</td>\n",
              "      <td>5</td>\n",
              "      <td>NaN</td>\n",
              "    </tr>\n",
              "  </tbody>\n",
              "</table>\n",
              "</div>\n",
              "      <button class=\"colab-df-convert\" onclick=\"convertToInteractive('df-a0f0aa67-b607-4482-a907-cdfa70ff51c6')\"\n",
              "              title=\"Convert this dataframe to an interactive table.\"\n",
              "              style=\"display:none;\">\n",
              "        \n",
              "  <svg xmlns=\"http://www.w3.org/2000/svg\" height=\"24px\"viewBox=\"0 0 24 24\"\n",
              "       width=\"24px\">\n",
              "    <path d=\"M0 0h24v24H0V0z\" fill=\"none\"/>\n",
              "    <path d=\"M18.56 5.44l.94 2.06.94-2.06 2.06-.94-2.06-.94-.94-2.06-.94 2.06-2.06.94zm-11 1L8.5 8.5l.94-2.06 2.06-.94-2.06-.94L8.5 2.5l-.94 2.06-2.06.94zm10 10l.94 2.06.94-2.06 2.06-.94-2.06-.94-.94-2.06-.94 2.06-2.06.94z\"/><path d=\"M17.41 7.96l-1.37-1.37c-.4-.4-.92-.59-1.43-.59-.52 0-1.04.2-1.43.59L10.3 9.45l-7.72 7.72c-.78.78-.78 2.05 0 2.83L4 21.41c.39.39.9.59 1.41.59.51 0 1.02-.2 1.41-.59l7.78-7.78 2.81-2.81c.8-.78.8-2.07 0-2.86zM5.41 20L4 18.59l7.72-7.72 1.47 1.35L5.41 20z\"/>\n",
              "  </svg>\n",
              "      </button>\n",
              "      \n",
              "  <style>\n",
              "    .colab-df-container {\n",
              "      display:flex;\n",
              "      flex-wrap:wrap;\n",
              "      gap: 12px;\n",
              "    }\n",
              "\n",
              "    .colab-df-convert {\n",
              "      background-color: #E8F0FE;\n",
              "      border: none;\n",
              "      border-radius: 50%;\n",
              "      cursor: pointer;\n",
              "      display: none;\n",
              "      fill: #1967D2;\n",
              "      height: 32px;\n",
              "      padding: 0 0 0 0;\n",
              "      width: 32px;\n",
              "    }\n",
              "\n",
              "    .colab-df-convert:hover {\n",
              "      background-color: #E2EBFA;\n",
              "      box-shadow: 0px 1px 2px rgba(60, 64, 67, 0.3), 0px 1px 3px 1px rgba(60, 64, 67, 0.15);\n",
              "      fill: #174EA6;\n",
              "    }\n",
              "\n",
              "    [theme=dark] .colab-df-convert {\n",
              "      background-color: #3B4455;\n",
              "      fill: #D2E3FC;\n",
              "    }\n",
              "\n",
              "    [theme=dark] .colab-df-convert:hover {\n",
              "      background-color: #434B5C;\n",
              "      box-shadow: 0px 1px 3px 1px rgba(0, 0, 0, 0.15);\n",
              "      filter: drop-shadow(0px 1px 2px rgba(0, 0, 0, 0.3));\n",
              "      fill: #FFFFFF;\n",
              "    }\n",
              "  </style>\n",
              "\n",
              "      <script>\n",
              "        const buttonEl =\n",
              "          document.querySelector('#df-a0f0aa67-b607-4482-a907-cdfa70ff51c6 button.colab-df-convert');\n",
              "        buttonEl.style.display =\n",
              "          google.colab.kernel.accessAllowed ? 'block' : 'none';\n",
              "\n",
              "        async function convertToInteractive(key) {\n",
              "          const element = document.querySelector('#df-a0f0aa67-b607-4482-a907-cdfa70ff51c6');\n",
              "          const dataTable =\n",
              "            await google.colab.kernel.invokeFunction('convertToInteractive',\n",
              "                                                     [key], {});\n",
              "          if (!dataTable) return;\n",
              "\n",
              "          const docLinkHtml = 'Like what you see? Visit the ' +\n",
              "            '<a target=\"_blank\" href=https://colab.research.google.com/notebooks/data_table.ipynb>data table notebook</a>'\n",
              "            + ' to learn more about interactive tables.';\n",
              "          element.innerHTML = '';\n",
              "          dataTable['output_type'] = 'display_data';\n",
              "          await google.colab.output.renderOutput(dataTable, element);\n",
              "          const docLink = document.createElement('div');\n",
              "          docLink.innerHTML = docLinkHtml;\n",
              "          element.appendChild(docLink);\n",
              "        }\n",
              "      </script>\n",
              "    </div>\n",
              "  </div>\n",
              "  "
            ]
          },
          "metadata": {},
          "execution_count": 79
        }
      ]
    },
    {
      "cell_type": "code",
      "metadata": {
        "id": "UxVJqJ_3W59I",
        "colab": {
          "base_uri": "https://localhost:8080/",
          "height": 361
        },
        "outputId": "236df5c4-da32-47e5-ce00-404e988cd393"
      },
      "source": [
        "# plotar os imóveis pela latitude-longitude\n",
        "df_clear.plot(kind=\"scatter\", x='longitude', y='latitude', alpha=0.4, c=df_clear['price'], s=8, cmap=plt.get_cmap('jet'), figsize=(12, 6));"
      ],
      "execution_count": null,
      "outputs": [
        {
          "output_type": "display_data",
          "data": {
            "text/plain": [
              "<Figure size 864x432 with 2 Axes>"
            ],
            "image/png": "[encoded data removed]"
          },
          "metadata": {
            "needs_background": "light"
          }
        }
      ]
    },
    {
      "cell_type": "markdown",
      "metadata": {
        "id": "vTneAMRUYvr1"
      },
      "source": [
        "### **Q7. Qual é a média do mínimo de noites para aluguel (minimum_nights)?**"
      ]
    },
    {
      "cell_type": "code",
      "metadata": {
        "id": "_VzNhrEgY82N",
        "colab": {
          "base_uri": "https://localhost:8080/"
        },
        "outputId": "293a0d36-7a61-47d8-a56e-f1cee485d789"
      },
      "source": [
        "# ver a média da coluna `minimum_nights`\n",
        "df_clear['minimum_nights'].mean()"
      ],
      "execution_count": null,
      "outputs": [
        {
          "output_type": "execute_result",
          "data": {
            "text/plain": [
              "2.7327586206896552"
            ]
          },
          "metadata": {},
          "execution_count": 82
        }
      ]
    },
    {
      "cell_type": "markdown",
      "metadata": {
        "id": "GkvAg623RjoR"
      },
      "source": [
        "## **Conclusões**\n",
        "\n",
        "Nesta estudo foi possível ver como os valores de *outliers* pesavam na análise de algumas variáveis como `price` e `minimum_nights`, sendo necessário realizar uma limpeza no dataframe antes prosseguirmos.\n",
        "\n",
        "A análise trata-se de uma abordagem inicial, uma vez que o arquivo utilizado é um resumo de um dataframe mais completo.\n"
      ]
    },
    {
      "cell_type": "code",
      "source": [
        ""
      ],
      "metadata": {
        "id": "mNf_9eLEKGXc"
      },
      "execution_count": null,
      "outputs": []
    }
  ]
}