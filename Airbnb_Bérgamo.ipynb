{
  "nbformat": 4,
  "nbformat_minor": 0,
  "metadata": {
    "colab": {
      "name": "Airbnb-Bérgamo",
      "provenance": [],
      "collapsed_sections": [],
      "include_colab_link": true
    },
    "kernelspec": {
      "name": "python3",
      "display_name": "Python 3"
    }
  },
  "cells": [
    {
      "cell_type": "markdown",
      "metadata": {
        "id": "view-in-github",
        "colab_type": "text"
      },
      "source": [
        "<a href=\"https://colab.research.google.com/github/AllanRocha28/Data-Science/blob/main/Airbnb_B%C3%A9rgamo.ipynb\" target=\"_parent\"><img src=\"https://colab.research.google.com/assets/colab-badge.svg\" alt=\"Open In Colab\"/></a>"
      ]
    },
    {
      "cell_type": "markdown",
      "metadata": {
        "id": "kLI0gJtzDGuQ"
      },
      "source": [
        "<img alt=\"Colaboratory logo\" width=\"15%\" src=\"https://raw.githubusercontent.com/carlosfab/escola-data-science/master/img/novo_logo_bg_claro.png\">\n",
        "\n",
        "#### **Data Science na Prática 3.0**\n",
        "*by [sigmoidal.ai](https://sigmoidal.ai)*\n",
        "\n",
        "---\n",
        "\n",
        "# Análise dos Dados do Airbnb - *Bérgamo, Lombardia - Itália*\n",
        "\n",
        "O [Airbnb](https://www.airbnb.com.br/) já é considerado como sendo a **maior empresa hoteleira da atualidade**. Ah, o detalhe é que ele **não possui nenhum hotel**!\n",
        "\n",
        "Conectando pessoas que querem viajar (e se hospedar) com anfitriões que querem alugar seus imóveis de maneira prática, o Airbnb fornece uma plataforma inovadora para tornar essa hospedagem alternativa.\n",
        "\n",
        "No final de 2018, a Startup fundada 10 anos atrás, já havia **hospedado mais de 300 milhões** de pessoas ao redor de todo o mundo, desafiando as redes hoteleiras tradicionais.\n",
        "\n",
        "Uma das iniciativas do Airbnb é disponibilizar dados do site, para algumas das principais cidades do mundo. Por meio do portal [Inside Airbnb](http://insideairbnb.com/get-the-data.html), é possível baixar uma grande quantidade de dados para desenvolver projetos e soluções de *Data Science*.\n",
        "\n",
        "<center><img alt=\"Analisando Airbnb\" width=\"10%\" src=\"https://www.area360.com.au/wp-content/uploads/2017/09/airbnb-logo.jpg\"></center>\n",
        "\n",
        "**Neste *notebook*, iremos analisar os dados referentes à cidade Bérgamo, e ver quais insights podem ser extraídos a partir de dados brutos.**"
      ]
    },
    {
      "cell_type": "markdown",
      "source": [
        "## **Sobre Bérgamo**\n",
        "\n",
        "Bérgamo é uma cidade italiana, província da região da Lombardia.\n",
        "\n",
        "A cidade está dividida em duas distintas áreas: A Città Alta (cidade Alta), um centro histórico cercado por uma muralha, e a Città Bassa (Cidade Baixa) , uma região mais moderna, onde estão localizados os comércios, indústrias.\n",
        "\n",
        "Apesar de não ser tão conhecida, quanto outras cidades italianas, Bérgamo apresenta diferentes pontos turísticos e belezas que estão atraindo e levando turistas a conhecer os encantos desse lindo lugar.\n",
        "\n",
        "No estudo realizado, os dados coletados e apresentados, poderão auxiliar a você a conhecer um pouco mais sobre o funcionamento da plataforma do Airbnb na região, destacando as principais informações que você pode necessitar para se hospedar e explorar este lindo lugar."
      ],
      "metadata": {
        "id": "J-nsdC7npcwe"
      }
    },
    {
      "cell_type": "markdown",
      "source": [
        "<center><img alt=\"Bérgamo\" width=\"75%\" src=\"https://upload.wikimedia.org/wikipedia/commons/0/0c/Sunrise_at_Bergamo_old_town%2C_Lombardy%2C_Italy.jpg\">\n",
        "</center>"
      ],
      "metadata": {
        "id": "cyl0f_r4rk3B"
      }
    },
    {
      "cell_type": "markdown",
      "metadata": {
        "id": "0zxQHhIUDF_2"
      },
      "source": [
        "## Obtenção dos Dados\n",
        "\n",
        "\n",
        "Os dados deste estudo foram baixados do site [Inside Airbnb](http://insideairbnb.com/get-the-data.html).\n",
        "\n",
        "Para a análise o arquivo baixado foi:\n",
        "\n",
        "* `\tlistings.csv` - *Summary information and metrics for listings in Bergamo (good for visualisations).*\n",
        "\n",
        "O site sofre constantes atualizações e por isso o arquivo utilizado neste estudo pode ter alterado em algum outro momento. Pensando nisso, o arquivo utilizado nessa análise fica disponível para ser [baixado](https://www.dropbox.com/s/hhhclxvefqu5mla/listings.csv?dl=1).\n"
      ]
    },
    {
      "cell_type": "markdown",
      "source": [
        "Faremos a importação dos arquivos necessários à análise."
      ],
      "metadata": {
        "id": "Fqx12gcLQ279"
      }
    },
    {
      "cell_type": "code",
      "metadata": {
        "id": "Vhp2wMPgJ6zX"
      },
      "source": [
        "# importar os pacotes necessarios\n",
        "import numpy as np\n",
        "import pandas as pd\n",
        "import matplotlib.pyplot as plt\n",
        "import seaborn as sns\n",
        "\n",
        "%matplotlib inline"
      ],
      "execution_count": 1,
      "outputs": []
    },
    {
      "cell_type": "code",
      "metadata": {
        "id": "tUmoAT8DLQ5T"
      },
      "source": [
        "# importar o arquivo listings.csv para um DataFrame\n",
        "df = pd.read_csv(\"https://www.dropbox.com/s/hhhclxvefqu5mla/listings.csv?dl=1\")"
      ],
      "execution_count": 2,
      "outputs": []
    },
    {
      "cell_type": "markdown",
      "metadata": {
        "id": "qb5By2nIMS6m"
      },
      "source": [
        "## Análise dos Dados\n"
      ]
    },
    {
      "cell_type": "markdown",
      "metadata": {
        "id": "RYgvuebKNg8-"
      },
      "source": [
        "**Dicionário das variáveis**\n",
        "\n",
        "* `id` - identificador do Airbnb para cada anúncio\n",
        "* `name` - nome da propriedade\n",
        "* `host_id` - identificação do Airbnb para o anfitrião\n",
        "* `host_name` - nome do anfitrião\n",
        "* `neighbourhood_group` - não há dados para esta variável\n",
        "* `neighbourhood` - nome dos bairros\n",
        "* `latitude` - posição geográfica da propriedade, em termos da sua latitude\n",
        "* `longitude` - posição geográfica da propriedade, em termos da sua longitude\n",
        "* `room_type` - tipo de imóvel para alugar\n",
        "* `price` - preço da diária\n",
        "* `minimum_nights` - número mínimo de noites para reservar\n",
        "* `number_of_reviews` - número de *reviews* que a propriedade possui\n",
        "* `last_review` - data da última revisão\n",
        "* `reviews_per_month` - quantidade de *reviews* por mês\n",
        "* `calculated_host_listings_count` - quantidade de propriedades de um mesmo anfitrão\n",
        "* `availability_365` - número de dias disponíveis em 365 dias\n",
        "* `number_of_reviews_ltm` - número de reviews nos últimos 12 meses para o imóvel\n",
        "* `license` - número da licença, permisão ou registro do imóvel\n",
        "\n",
        "Antes de iniciar qualquer análise, vamos verificar o *dataset*, analisando as 5 primeiras entradas e as 5 últimas saídas."
      ]
    },
    {
      "cell_type": "code",
      "metadata": {
        "id": "2iS_dae7YQtO",
        "colab": {
          "base_uri": "https://localhost:8080/",
          "height": 823
        },
        "outputId": "a00446cb-3025-4c55-a533-d9f16dbdbbe3"
      },
      "source": [
        "# mostrar as 5 primeiras entradas\n",
        "display(df.head())\n",
        "\n",
        "# 5 últimas saídas\n",
        "df.tail()"
      ],
      "execution_count": 4,
      "outputs": [
        {
          "output_type": "display_data",
          "data": {
            "text/plain": [
              "       id                                       name  host_id  \\\n",
              "0   15526                Residenza PALAZZO lake view    60754   \n",
              "1   15542             Suite PANORAMA facing the lake    60754   \n",
              "2   31412                      Cute and Cosy Terrace   134937   \n",
              "3  116423              Casetta a 12km da lago d'iseo   588254   \n",
              "4  179345  Bossico Vicino a Montisola  e lago D'iseo   588254   \n",
              "\n",
              "                    host_name  neighbourhood_group  neighbourhood  latitude  \\\n",
              "0  Andrea, Maurizio, And Tina                  NaN  Solto Collina  45.78464   \n",
              "1  Andrea, Maurizio, And Tina                  NaN  Solto Collina  45.78354   \n",
              "2                       Elena                  NaN        Bergamo  45.69052   \n",
              "3                      Angela                  NaN        Bossico  45.82840   \n",
              "4                      Angela                  NaN        Bossico  45.82723   \n",
              "\n",
              "   longitude        room_type  price  minimum_nights  number_of_reviews  \\\n",
              "0   10.02629  Entire home/apt    119               3                 37   \n",
              "1   10.02471  Entire home/apt     87               3                 42   \n",
              "2    9.67099  Entire home/apt     64               1                 93   \n",
              "3   10.04476  Entire home/apt     62               7                  8   \n",
              "4   10.04484  Entire home/apt     60               7                 11   \n",
              "\n",
              "  last_review  reviews_per_month  calculated_host_listings_count  \\\n",
              "0  2021-08-26               0.29                               5   \n",
              "1  2021-09-21               0.36                               5   \n",
              "2  2021-10-05               0.78                              10   \n",
              "3  2019-11-03               0.18                               3   \n",
              "4  2021-09-30               0.25                               3   \n",
              "\n",
              "   availability_365  number_of_reviews_ltm                     license  \n",
              "0                63                      2                         NaN  \n",
              "1                72                      2                         NaN  \n",
              "2                 1                     14                         NaN  \n",
              "3               292                      0  CIR 016033-CNI-00002T00146  \n",
              "4               292                      1  CIR 016033-CNI-00002T00146  "
            ],
            "text/html": [
              "\n",
              "  <div id=\"df-47d819d0-a56b-48dc-8569-05907dd30b58\">\n",
              "    <div class=\"colab-df-container\">\n",
              "      <div>\n",
              "<style scoped>\n",
              "    .dataframe tbody tr th:only-of-type {\n",
              "        vertical-align: middle;\n",
              "    }\n",
              "\n",
              "    .dataframe tbody tr th {\n",
              "        vertical-align: top;\n",
              "    }\n",
              "\n",
              "    .dataframe thead th {\n",
              "        text-align: right;\n",
              "    }\n",
              "</style>\n",
              "<table border=\"1\" class=\"dataframe\">\n",
              "  <thead>\n",
              "    <tr style=\"text-align: right;\">\n",
              "      <th></th>\n",
              "      <th>id</th>\n",
              "      <th>name</th>\n",
              "      <th>host_id</th>\n",
              "      <th>host_name</th>\n",
              "      <th>neighbourhood_group</th>\n",
              "      <th>neighbourhood</th>\n",
              "      <th>latitude</th>\n",
              "      <th>longitude</th>\n",
              "      <th>room_type</th>\n",
              "      <th>price</th>\n",
              "      <th>minimum_nights</th>\n",
              "      <th>number_of_reviews</th>\n",
              "      <th>last_review</th>\n",
              "      <th>reviews_per_month</th>\n",
              "      <th>calculated_host_listings_count</th>\n",
              "      <th>availability_365</th>\n",
              "      <th>number_of_reviews_ltm</th>\n",
              "      <th>license</th>\n",
              "    </tr>\n",
              "  </thead>\n",
              "  <tbody>\n",
              "    <tr>\n",
              "      <th>0</th>\n",
              "      <td>15526</td>\n",
              "      <td>Residenza PALAZZO lake view</td>\n",
              "      <td>60754</td>\n",
              "      <td>Andrea, Maurizio, And Tina</td>\n",
              "      <td>NaN</td>\n",
              "      <td>Solto Collina</td>\n",
              "      <td>45.78464</td>\n",
              "      <td>10.02629</td>\n",
              "      <td>Entire home/apt</td>\n",
              "      <td>119</td>\n",
              "      <td>3</td>\n",
              "      <td>37</td>\n",
              "      <td>2021-08-26</td>\n",
              "      <td>0.29</td>\n",
              "      <td>5</td>\n",
              "      <td>63</td>\n",
              "      <td>2</td>\n",
              "      <td>NaN</td>\n",
              "    </tr>\n",
              "    <tr>\n",
              "      <th>1</th>\n",
              "      <td>15542</td>\n",
              "      <td>Suite PANORAMA facing the lake</td>\n",
              "      <td>60754</td>\n",
              "      <td>Andrea, Maurizio, And Tina</td>\n",
              "      <td>NaN</td>\n",
              "      <td>Solto Collina</td>\n",
              "      <td>45.78354</td>\n",
              "      <td>10.02471</td>\n",
              "      <td>Entire home/apt</td>\n",
              "      <td>87</td>\n",
              "      <td>3</td>\n",
              "      <td>42</td>\n",
              "      <td>2021-09-21</td>\n",
              "      <td>0.36</td>\n",
              "      <td>5</td>\n",
              "      <td>72</td>\n",
              "      <td>2</td>\n",
              "      <td>NaN</td>\n",
              "    </tr>\n",
              "    <tr>\n",
              "      <th>2</th>\n",
              "      <td>31412</td>\n",
              "      <td>Cute and Cosy Terrace</td>\n",
              "      <td>134937</td>\n",
              "      <td>Elena</td>\n",
              "      <td>NaN</td>\n",
              "      <td>Bergamo</td>\n",
              "      <td>45.69052</td>\n",
              "      <td>9.67099</td>\n",
              "      <td>Entire home/apt</td>\n",
              "      <td>64</td>\n",
              "      <td>1</td>\n",
              "      <td>93</td>\n",
              "      <td>2021-10-05</td>\n",
              "      <td>0.78</td>\n",
              "      <td>10</td>\n",
              "      <td>1</td>\n",
              "      <td>14</td>\n",
              "      <td>NaN</td>\n",
              "    </tr>\n",
              "    <tr>\n",
              "      <th>3</th>\n",
              "      <td>116423</td>\n",
              "      <td>Casetta a 12km da lago d'iseo</td>\n",
              "      <td>588254</td>\n",
              "      <td>Angela</td>\n",
              "      <td>NaN</td>\n",
              "      <td>Bossico</td>\n",
              "      <td>45.82840</td>\n",
              "      <td>10.04476</td>\n",
              "      <td>Entire home/apt</td>\n",
              "      <td>62</td>\n",
              "      <td>7</td>\n",
              "      <td>8</td>\n",
              "      <td>2019-11-03</td>\n",
              "      <td>0.18</td>\n",
              "      <td>3</td>\n",
              "      <td>292</td>\n",
              "      <td>0</td>\n",
              "      <td>CIR 016033-CNI-00002T00146</td>\n",
              "    </tr>\n",
              "    <tr>\n",
              "      <th>4</th>\n",
              "      <td>179345</td>\n",
              "      <td>Bossico Vicino a Montisola  e lago D'iseo</td>\n",
              "      <td>588254</td>\n",
              "      <td>Angela</td>\n",
              "      <td>NaN</td>\n",
              "      <td>Bossico</td>\n",
              "      <td>45.82723</td>\n",
              "      <td>10.04484</td>\n",
              "      <td>Entire home/apt</td>\n",
              "      <td>60</td>\n",
              "      <td>7</td>\n",
              "      <td>11</td>\n",
              "      <td>2021-09-30</td>\n",
              "      <td>0.25</td>\n",
              "      <td>3</td>\n",
              "      <td>292</td>\n",
              "      <td>1</td>\n",
              "      <td>CIR 016033-CNI-00002T00146</td>\n",
              "    </tr>\n",
              "  </tbody>\n",
              "</table>\n",
              "</div>\n",
              "      <button class=\"colab-df-convert\" onclick=\"convertToInteractive('df-47d819d0-a56b-48dc-8569-05907dd30b58')\"\n",
              "              title=\"Convert this dataframe to an interactive table.\"\n",
              "              style=\"display:none;\">\n",
              "        \n",
              "  <svg xmlns=\"http://www.w3.org/2000/svg\" height=\"24px\"viewBox=\"0 0 24 24\"\n",
              "       width=\"24px\">\n",
              "    <path d=\"M0 0h24v24H0V0z\" fill=\"none\"/>\n",
              "    <path d=\"M18.56 5.44l.94 2.06.94-2.06 2.06-.94-2.06-.94-.94-2.06-.94 2.06-2.06.94zm-11 1L8.5 8.5l.94-2.06 2.06-.94-2.06-.94L8.5 2.5l-.94 2.06-2.06.94zm10 10l.94 2.06.94-2.06 2.06-.94-2.06-.94-.94-2.06-.94 2.06-2.06.94z\"/><path d=\"M17.41 7.96l-1.37-1.37c-.4-.4-.92-.59-1.43-.59-.52 0-1.04.2-1.43.59L10.3 9.45l-7.72 7.72c-.78.78-.78 2.05 0 2.83L4 21.41c.39.39.9.59 1.41.59.51 0 1.02-.2 1.41-.59l7.78-7.78 2.81-2.81c.8-.78.8-2.07 0-2.86zM5.41 20L4 18.59l7.72-7.72 1.47 1.35L5.41 20z\"/>\n",
              "  </svg>\n",
              "      </button>\n",
              "      \n",
              "  <style>\n",
              "    .colab-df-container {\n",
              "      display:flex;\n",
              "      flex-wrap:wrap;\n",
              "      gap: 12px;\n",
              "    }\n",
              "\n",
              "    .colab-df-convert {\n",
              "      background-color: #E8F0FE;\n",
              "      border: none;\n",
              "      border-radius: 50%;\n",
              "      cursor: pointer;\n",
              "      display: none;\n",
              "      fill: #1967D2;\n",
              "      height: 32px;\n",
              "      padding: 0 0 0 0;\n",
              "      width: 32px;\n",
              "    }\n",
              "\n",
              "    .colab-df-convert:hover {\n",
              "      background-color: #E2EBFA;\n",
              "      box-shadow: 0px 1px 2px rgba(60, 64, 67, 0.3), 0px 1px 3px 1px rgba(60, 64, 67, 0.15);\n",
              "      fill: #174EA6;\n",
              "    }\n",
              "\n",
              "    [theme=dark] .colab-df-convert {\n",
              "      background-color: #3B4455;\n",
              "      fill: #D2E3FC;\n",
              "    }\n",
              "\n",
              "    [theme=dark] .colab-df-convert:hover {\n",
              "      background-color: #434B5C;\n",
              "      box-shadow: 0px 1px 3px 1px rgba(0, 0, 0, 0.15);\n",
              "      filter: drop-shadow(0px 1px 2px rgba(0, 0, 0, 0.3));\n",
              "      fill: #FFFFFF;\n",
              "    }\n",
              "  </style>\n",
              "\n",
              "      <script>\n",
              "        const buttonEl =\n",
              "          document.querySelector('#df-47d819d0-a56b-48dc-8569-05907dd30b58 button.colab-df-convert');\n",
              "        buttonEl.style.display =\n",
              "          google.colab.kernel.accessAllowed ? 'block' : 'none';\n",
              "\n",
              "        async function convertToInteractive(key) {\n",
              "          const element = document.querySelector('#df-47d819d0-a56b-48dc-8569-05907dd30b58');\n",
              "          const dataTable =\n",
              "            await google.colab.kernel.invokeFunction('convertToInteractive',\n",
              "                                                     [key], {});\n",
              "          if (!dataTable) return;\n",
              "\n",
              "          const docLinkHtml = 'Like what you see? Visit the ' +\n",
              "            '<a target=\"_blank\" href=https://colab.research.google.com/notebooks/data_table.ipynb>data table notebook</a>'\n",
              "            + ' to learn more about interactive tables.';\n",
              "          element.innerHTML = '';\n",
              "          dataTable['output_type'] = 'display_data';\n",
              "          await google.colab.output.renderOutput(dataTable, element);\n",
              "          const docLink = document.createElement('div');\n",
              "          docLink.innerHTML = docLinkHtml;\n",
              "          element.appendChild(docLink);\n",
              "        }\n",
              "      </script>\n",
              "    </div>\n",
              "  </div>\n",
              "  "
            ]
          },
          "metadata": {}
        },
        {
          "output_type": "execute_result",
          "data": {
            "text/plain": [
              "            id                                          name    host_id  \\\n",
              "2238  53963904                       Castello Lovere - Mosto  437130287   \n",
              "2239  53976065                    Appartamento bianco Natale  106588650   \n",
              "2240  53992857                       Appartamento KEPLERO G.   25916762   \n",
              "2241  54002639  Santa Osola Home.\\n  lovely 3 bedrooms house  330339789   \n",
              "2242  54026928                                Casa da cinzia  437802823   \n",
              "\n",
              "                   host_name  neighbourhood_group neighbourhood   latitude  \\\n",
              "2238                    Lara                  NaN        Lovere  45.820680   \n",
              "2239                 Lorenzo                  NaN       Roncola  45.771070   \n",
              "2240                   Mario                  NaN       Bergamo  45.672279   \n",
              "2241  Derrick Kwaku Peterson                  NaN       Bergamo  45.694570   \n",
              "2242                  Cinzia                  NaN        Zanica  45.637360   \n",
              "\n",
              "      longitude        room_type  price  minimum_nights  number_of_reviews  \\\n",
              "2238  10.078240  Entire home/apt    160               3                  0   \n",
              "2239   9.557320  Entire home/apt    100               5                  0   \n",
              "2240   9.664339  Entire home/apt     90               1                  0   \n",
              "2241   9.665920     Private room    200               1                  0   \n",
              "2242   9.686720  Entire home/apt     72               1                  0   \n",
              "\n",
              "     last_review  reviews_per_month  calculated_host_listings_count  \\\n",
              "2238         NaN                NaN                               5   \n",
              "2239         NaN                NaN                               6   \n",
              "2240         NaN                NaN                              10   \n",
              "2241         NaN                NaN                               2   \n",
              "2242         NaN                NaN                               1   \n",
              "\n",
              "      availability_365  number_of_reviews_ltm license  \n",
              "2238                43                      0     NaN  \n",
              "2239                89                      0     NaN  \n",
              "2240               274                      0     NaN  \n",
              "2241               363                      0     NaN  \n",
              "2242               365                      0     NaN  "
            ],
            "text/html": [
              "\n",
              "  <div id=\"df-496294f5-ff30-430b-bbea-b5507a613789\">\n",
              "    <div class=\"colab-df-container\">\n",
              "      <div>\n",
              "<style scoped>\n",
              "    .dataframe tbody tr th:only-of-type {\n",
              "        vertical-align: middle;\n",
              "    }\n",
              "\n",
              "    .dataframe tbody tr th {\n",
              "        vertical-align: top;\n",
              "    }\n",
              "\n",
              "    .dataframe thead th {\n",
              "        text-align: right;\n",
              "    }\n",
              "</style>\n",
              "<table border=\"1\" class=\"dataframe\">\n",
              "  <thead>\n",
              "    <tr style=\"text-align: right;\">\n",
              "      <th></th>\n",
              "      <th>id</th>\n",
              "      <th>name</th>\n",
              "      <th>host_id</th>\n",
              "      <th>host_name</th>\n",
              "      <th>neighbourhood_group</th>\n",
              "      <th>neighbourhood</th>\n",
              "      <th>latitude</th>\n",
              "      <th>longitude</th>\n",
              "      <th>room_type</th>\n",
              "      <th>price</th>\n",
              "      <th>minimum_nights</th>\n",
              "      <th>number_of_reviews</th>\n",
              "      <th>last_review</th>\n",
              "      <th>reviews_per_month</th>\n",
              "      <th>calculated_host_listings_count</th>\n",
              "      <th>availability_365</th>\n",
              "      <th>number_of_reviews_ltm</th>\n",
              "      <th>license</th>\n",
              "    </tr>\n",
              "  </thead>\n",
              "  <tbody>\n",
              "    <tr>\n",
              "      <th>2238</th>\n",
              "      <td>53963904</td>\n",
              "      <td>Castello Lovere - Mosto</td>\n",
              "      <td>437130287</td>\n",
              "      <td>Lara</td>\n",
              "      <td>NaN</td>\n",
              "      <td>Lovere</td>\n",
              "      <td>45.820680</td>\n",
              "      <td>10.078240</td>\n",
              "      <td>Entire home/apt</td>\n",
              "      <td>160</td>\n",
              "      <td>3</td>\n",
              "      <td>0</td>\n",
              "      <td>NaN</td>\n",
              "      <td>NaN</td>\n",
              "      <td>5</td>\n",
              "      <td>43</td>\n",
              "      <td>0</td>\n",
              "      <td>NaN</td>\n",
              "    </tr>\n",
              "    <tr>\n",
              "      <th>2239</th>\n",
              "      <td>53976065</td>\n",
              "      <td>Appartamento bianco Natale</td>\n",
              "      <td>106588650</td>\n",
              "      <td>Lorenzo</td>\n",
              "      <td>NaN</td>\n",
              "      <td>Roncola</td>\n",
              "      <td>45.771070</td>\n",
              "      <td>9.557320</td>\n",
              "      <td>Entire home/apt</td>\n",
              "      <td>100</td>\n",
              "      <td>5</td>\n",
              "      <td>0</td>\n",
              "      <td>NaN</td>\n",
              "      <td>NaN</td>\n",
              "      <td>6</td>\n",
              "      <td>89</td>\n",
              "      <td>0</td>\n",
              "      <td>NaN</td>\n",
              "    </tr>\n",
              "    <tr>\n",
              "      <th>2240</th>\n",
              "      <td>53992857</td>\n",
              "      <td>Appartamento KEPLERO G.</td>\n",
              "      <td>25916762</td>\n",
              "      <td>Mario</td>\n",
              "      <td>NaN</td>\n",
              "      <td>Bergamo</td>\n",
              "      <td>45.672279</td>\n",
              "      <td>9.664339</td>\n",
              "      <td>Entire home/apt</td>\n",
              "      <td>90</td>\n",
              "      <td>1</td>\n",
              "      <td>0</td>\n",
              "      <td>NaN</td>\n",
              "      <td>NaN</td>\n",
              "      <td>10</td>\n",
              "      <td>274</td>\n",
              "      <td>0</td>\n",
              "      <td>NaN</td>\n",
              "    </tr>\n",
              "    <tr>\n",
              "      <th>2241</th>\n",
              "      <td>54002639</td>\n",
              "      <td>Santa Osola Home.\\n  lovely 3 bedrooms house</td>\n",
              "      <td>330339789</td>\n",
              "      <td>Derrick Kwaku Peterson</td>\n",
              "      <td>NaN</td>\n",
              "      <td>Bergamo</td>\n",
              "      <td>45.694570</td>\n",
              "      <td>9.665920</td>\n",
              "      <td>Private room</td>\n",
              "      <td>200</td>\n",
              "      <td>1</td>\n",
              "      <td>0</td>\n",
              "      <td>NaN</td>\n",
              "      <td>NaN</td>\n",
              "      <td>2</td>\n",
              "      <td>363</td>\n",
              "      <td>0</td>\n",
              "      <td>NaN</td>\n",
              "    </tr>\n",
              "    <tr>\n",
              "      <th>2242</th>\n",
              "      <td>54026928</td>\n",
              "      <td>Casa da cinzia</td>\n",
              "      <td>437802823</td>\n",
              "      <td>Cinzia</td>\n",
              "      <td>NaN</td>\n",
              "      <td>Zanica</td>\n",
              "      <td>45.637360</td>\n",
              "      <td>9.686720</td>\n",
              "      <td>Entire home/apt</td>\n",
              "      <td>72</td>\n",
              "      <td>1</td>\n",
              "      <td>0</td>\n",
              "      <td>NaN</td>\n",
              "      <td>NaN</td>\n",
              "      <td>1</td>\n",
              "      <td>365</td>\n",
              "      <td>0</td>\n",
              "      <td>NaN</td>\n",
              "    </tr>\n",
              "  </tbody>\n",
              "</table>\n",
              "</div>\n",
              "      <button class=\"colab-df-convert\" onclick=\"convertToInteractive('df-496294f5-ff30-430b-bbea-b5507a613789')\"\n",
              "              title=\"Convert this dataframe to an interactive table.\"\n",
              "              style=\"display:none;\">\n",
              "        \n",
              "  <svg xmlns=\"http://www.w3.org/2000/svg\" height=\"24px\"viewBox=\"0 0 24 24\"\n",
              "       width=\"24px\">\n",
              "    <path d=\"M0 0h24v24H0V0z\" fill=\"none\"/>\n",
              "    <path d=\"M18.56 5.44l.94 2.06.94-2.06 2.06-.94-2.06-.94-.94-2.06-.94 2.06-2.06.94zm-11 1L8.5 8.5l.94-2.06 2.06-.94-2.06-.94L8.5 2.5l-.94 2.06-2.06.94zm10 10l.94 2.06.94-2.06 2.06-.94-2.06-.94-.94-2.06-.94 2.06-2.06.94z\"/><path d=\"M17.41 7.96l-1.37-1.37c-.4-.4-.92-.59-1.43-.59-.52 0-1.04.2-1.43.59L10.3 9.45l-7.72 7.72c-.78.78-.78 2.05 0 2.83L4 21.41c.39.39.9.59 1.41.59.51 0 1.02-.2 1.41-.59l7.78-7.78 2.81-2.81c.8-.78.8-2.07 0-2.86zM5.41 20L4 18.59l7.72-7.72 1.47 1.35L5.41 20z\"/>\n",
              "  </svg>\n",
              "      </button>\n",
              "      \n",
              "  <style>\n",
              "    .colab-df-container {\n",
              "      display:flex;\n",
              "      flex-wrap:wrap;\n",
              "      gap: 12px;\n",
              "    }\n",
              "\n",
              "    .colab-df-convert {\n",
              "      background-color: #E8F0FE;\n",
              "      border: none;\n",
              "      border-radius: 50%;\n",
              "      cursor: pointer;\n",
              "      display: none;\n",
              "      fill: #1967D2;\n",
              "      height: 32px;\n",
              "      padding: 0 0 0 0;\n",
              "      width: 32px;\n",
              "    }\n",
              "\n",
              "    .colab-df-convert:hover {\n",
              "      background-color: #E2EBFA;\n",
              "      box-shadow: 0px 1px 2px rgba(60, 64, 67, 0.3), 0px 1px 3px 1px rgba(60, 64, 67, 0.15);\n",
              "      fill: #174EA6;\n",
              "    }\n",
              "\n",
              "    [theme=dark] .colab-df-convert {\n",
              "      background-color: #3B4455;\n",
              "      fill: #D2E3FC;\n",
              "    }\n",
              "\n",
              "    [theme=dark] .colab-df-convert:hover {\n",
              "      background-color: #434B5C;\n",
              "      box-shadow: 0px 1px 3px 1px rgba(0, 0, 0, 0.15);\n",
              "      filter: drop-shadow(0px 1px 2px rgba(0, 0, 0, 0.3));\n",
              "      fill: #FFFFFF;\n",
              "    }\n",
              "  </style>\n",
              "\n",
              "      <script>\n",
              "        const buttonEl =\n",
              "          document.querySelector('#df-496294f5-ff30-430b-bbea-b5507a613789 button.colab-df-convert');\n",
              "        buttonEl.style.display =\n",
              "          google.colab.kernel.accessAllowed ? 'block' : 'none';\n",
              "\n",
              "        async function convertToInteractive(key) {\n",
              "          const element = document.querySelector('#df-496294f5-ff30-430b-bbea-b5507a613789');\n",
              "          const dataTable =\n",
              "            await google.colab.kernel.invokeFunction('convertToInteractive',\n",
              "                                                     [key], {});\n",
              "          if (!dataTable) return;\n",
              "\n",
              "          const docLinkHtml = 'Like what you see? Visit the ' +\n",
              "            '<a target=\"_blank\" href=https://colab.research.google.com/notebooks/data_table.ipynb>data table notebook</a>'\n",
              "            + ' to learn more about interactive tables.';\n",
              "          element.innerHTML = '';\n",
              "          dataTable['output_type'] = 'display_data';\n",
              "          await google.colab.output.renderOutput(dataTable, element);\n",
              "          const docLink = document.createElement('div');\n",
              "          docLink.innerHTML = docLinkHtml;\n",
              "          element.appendChild(docLink);\n",
              "        }\n",
              "      </script>\n",
              "    </div>\n",
              "  </div>\n",
              "  "
            ]
          },
          "metadata": {},
          "execution_count": 4
        }
      ]
    },
    {
      "cell_type": "markdown",
      "metadata": {
        "id": "6-B_qtEaYEd-"
      },
      "source": [
        "Para o conjunto de dados escolhidos, `listing.csv`, que é um *Summary* há 18 variáveis no dataset e 2243 valores de entradas. "
      ]
    },
    {
      "cell_type": "code",
      "metadata": {
        "id": "TFRK0tniLV-G",
        "colab": {
          "base_uri": "https://localhost:8080/",
          "height": 423
        },
        "outputId": "9c22db94-55c1-4a47-e013-4c157fc44afc"
      },
      "source": [
        "# identificar o volume de dados do DataFrame\n",
        "print(\"Entradas: {}\".format(df.shape[0]))\n",
        "print(\"Variáveis: {}\\n\".format(df.shape[1]))\n",
        "\n",
        "# verificar as 5 primeiras entradas do dataset\n",
        "display(df.dtypes)"
      ],
      "execution_count": 5,
      "outputs": [
        {
          "output_type": "stream",
          "name": "stdout",
          "text": [
            "Entradas: 2243\n",
            "Variáveis: 18\n",
            "\n"
          ]
        },
        {
          "output_type": "display_data",
          "data": {
            "text/plain": [
              "id                                  int64\n",
              "name                               object\n",
              "host_id                             int64\n",
              "host_name                          object\n",
              "neighbourhood_group               float64\n",
              "neighbourhood                      object\n",
              "latitude                          float64\n",
              "longitude                         float64\n",
              "room_type                          object\n",
              "price                               int64\n",
              "minimum_nights                      int64\n",
              "number_of_reviews                   int64\n",
              "last_review                        object\n",
              "reviews_per_month                 float64\n",
              "calculated_host_listings_count      int64\n",
              "availability_365                    int64\n",
              "number_of_reviews_ltm               int64\n",
              "license                            object\n",
              "dtype: object"
            ]
          },
          "metadata": {}
        }
      ]
    },
    {
      "cell_type": "markdown",
      "metadata": {
        "id": "yz1urSUGW9iE"
      },
      "source": [
        "Saber a quantidade de valores nulos em um dataset é importante para saber quais variáveis não iremos considerar na análise.\n",
        "\n",
        "* `neighbourhood_group` - não possui valor nenhum, 100% dos valores estão faltando.\n",
        "* `license` - tem 81% de valores nulos.\n",
        "* `reviews_per_month` e `last_review` as duas variáveis apresentam a mesma quantidade de valores faltantes, quase 21%.\n",
        "\n",
        "A variável `host_name` é a ultima que apresenta valores faltantes: 0,09%; como o valor é baixo ela pode ser considerada na análise."
      ]
    },
    {
      "cell_type": "code",
      "metadata": {
        "id": "plk2FjbCXOqP",
        "colab": {
          "base_uri": "https://localhost:8080/"
        },
        "outputId": "072b7213-3476-43ae-b0ab-3d9911e2eb9c"
      },
      "source": [
        "# colocar em ordem decrescente as variáveis com valores ausentes\n",
        "(df.isnull().sum() / df.shape[0]).sort_values(ascending=False)"
      ],
      "execution_count": 7,
      "outputs": [
        {
          "output_type": "execute_result",
          "data": {
            "text/plain": [
              "neighbourhood_group               1.000000\n",
              "license                           0.812751\n",
              "reviews_per_month                 0.205974\n",
              "last_review                       0.205974\n",
              "host_name                         0.000892\n",
              "minimum_nights                    0.000000\n",
              "number_of_reviews_ltm             0.000000\n",
              "availability_365                  0.000000\n",
              "calculated_host_listings_count    0.000000\n",
              "number_of_reviews                 0.000000\n",
              "id                                0.000000\n",
              "name                              0.000000\n",
              "room_type                         0.000000\n",
              "longitude                         0.000000\n",
              "latitude                          0.000000\n",
              "neighbourhood                     0.000000\n",
              "host_id                           0.000000\n",
              "price                             0.000000\n",
              "dtype: float64"
            ]
          },
          "metadata": {},
          "execution_count": 7
        }
      ]
    },
    {
      "cell_type": "markdown",
      "source": [
        "Como as variáveis `neighbourhood_group`, `license`, `reviews_per_month` e `last_review` tem pouco poder preditivo e não serão utilizadas na análise, iremos excluí-las do data set."
      ],
      "metadata": {
        "id": "TfVJvUJs5YVu"
      }
    },
    {
      "cell_type": "code",
      "source": [
        "df.drop(['neighbourhood_group', 'license', 'reviews_per_month', 'last_review'], axis=1, inplace=True)"
      ],
      "metadata": {
        "id": "EpjZPWjV5lPH"
      },
      "execution_count": 8,
      "outputs": []
    },
    {
      "cell_type": "markdown",
      "metadata": {
        "id": "iHXvvHIxaoNc"
      },
      "source": [
        "Para observar melhor as variáveis numéricas do dataset, será feito um histograma destas."
      ]
    },
    {
      "cell_type": "code",
      "metadata": {
        "id": "q2wWSfeRbmBo",
        "colab": {
          "base_uri": "https://localhost:8080/",
          "height": 606
        },
        "outputId": "b5f118b8-5735-487d-e782-b3f7775c417d"
      },
      "source": [
        "# plotar o histograma das variáveis numéricas\n",
        "df.hist(bins=15, figsize=(15,10));"
      ],
      "execution_count": 9,
      "outputs": [
        {
          "output_type": "display_data",
          "data": {
            "text/plain": [
              "<Figure size 1080x720 with 12 Axes>"
            ],
            "image/png": "[encoded data removed]"
          },
          "metadata": {
            "needs_background": "light"
          }
        }
      ]
    },
    {
      "cell_type": "markdown",
      "source": [
        "A partir dos histogramas plotados pode ser observado valores de *outliers* para as variáveis `price` e `minimum_nights`. A presença dos *outliers* podem prejudicar a análise do estudo, pois estes acabam enviesando o resultado, sendo necessário realizar um tratamento do dataset com a retirada dos valores de *outliers*.\n",
        "\n",
        "Será realizado um resumo estatístico e boxplots das variáveis `price` e `minimum_nights` para observar a influência dos *outliers*."
      ],
      "metadata": {
        "id": "cfv5BXlQ7269"
      }
    },
    {
      "cell_type": "code",
      "source": [
        "# Apresentação do resumo estatístico para as variáveis em análise \n",
        "df[['price', 'minimum_nights']].describe()"
      ],
      "metadata": {
        "colab": {
          "base_uri": "https://localhost:8080/",
          "height": 300
        },
        "id": "AgHqL8d2_ID2",
        "outputId": "9ab19b42-6736-40e7-9c8f-264856fd023a"
      },
      "execution_count": 10,
      "outputs": [
        {
          "output_type": "execute_result",
          "data": {
            "text/plain": [
              "             price  minimum_nights\n",
              "count  2243.000000     2243.000000\n",
              "mean    125.484619        4.594739\n",
              "std     498.085691       30.844063\n",
              "min       9.000000        1.000000\n",
              "25%      50.000000        1.000000\n",
              "50%      70.000000        2.000000\n",
              "75%     104.500000        3.000000\n",
              "max    7999.000000     1124.000000"
            ],
            "text/html": [
              "\n",
              "  <div id=\"df-93b59741-bff8-4343-9e17-5bf72911c837\">\n",
              "    <div class=\"colab-df-container\">\n",
              "      <div>\n",
              "<style scoped>\n",
              "    .dataframe tbody tr th:only-of-type {\n",
              "        vertical-align: middle;\n",
              "    }\n",
              "\n",
              "    .dataframe tbody tr th {\n",
              "        vertical-align: top;\n",
              "    }\n",
              "\n",
              "    .dataframe thead th {\n",
              "        text-align: right;\n",
              "    }\n",
              "</style>\n",
              "<table border=\"1\" class=\"dataframe\">\n",
              "  <thead>\n",
              "    <tr style=\"text-align: right;\">\n",
              "      <th></th>\n",
              "      <th>price</th>\n",
              "      <th>minimum_nights</th>\n",
              "    </tr>\n",
              "  </thead>\n",
              "  <tbody>\n",
              "    <tr>\n",
              "      <th>count</th>\n",
              "      <td>2243.000000</td>\n",
              "      <td>2243.000000</td>\n",
              "    </tr>\n",
              "    <tr>\n",
              "      <th>mean</th>\n",
              "      <td>125.484619</td>\n",
              "      <td>4.594739</td>\n",
              "    </tr>\n",
              "    <tr>\n",
              "      <th>std</th>\n",
              "      <td>498.085691</td>\n",
              "      <td>30.844063</td>\n",
              "    </tr>\n",
              "    <tr>\n",
              "      <th>min</th>\n",
              "      <td>9.000000</td>\n",
              "      <td>1.000000</td>\n",
              "    </tr>\n",
              "    <tr>\n",
              "      <th>25%</th>\n",
              "      <td>50.000000</td>\n",
              "      <td>1.000000</td>\n",
              "    </tr>\n",
              "    <tr>\n",
              "      <th>50%</th>\n",
              "      <td>70.000000</td>\n",
              "      <td>2.000000</td>\n",
              "    </tr>\n",
              "    <tr>\n",
              "      <th>75%</th>\n",
              "      <td>104.500000</td>\n",
              "      <td>3.000000</td>\n",
              "    </tr>\n",
              "    <tr>\n",
              "      <th>max</th>\n",
              "      <td>7999.000000</td>\n",
              "      <td>1124.000000</td>\n",
              "    </tr>\n",
              "  </tbody>\n",
              "</table>\n",
              "</div>\n",
              "      <button class=\"colab-df-convert\" onclick=\"convertToInteractive('df-93b59741-bff8-4343-9e17-5bf72911c837')\"\n",
              "              title=\"Convert this dataframe to an interactive table.\"\n",
              "              style=\"display:none;\">\n",
              "        \n",
              "  <svg xmlns=\"http://www.w3.org/2000/svg\" height=\"24px\"viewBox=\"0 0 24 24\"\n",
              "       width=\"24px\">\n",
              "    <path d=\"M0 0h24v24H0V0z\" fill=\"none\"/>\n",
              "    <path d=\"M18.56 5.44l.94 2.06.94-2.06 2.06-.94-2.06-.94-.94-2.06-.94 2.06-2.06.94zm-11 1L8.5 8.5l.94-2.06 2.06-.94-2.06-.94L8.5 2.5l-.94 2.06-2.06.94zm10 10l.94 2.06.94-2.06 2.06-.94-2.06-.94-.94-2.06-.94 2.06-2.06.94z\"/><path d=\"M17.41 7.96l-1.37-1.37c-.4-.4-.92-.59-1.43-.59-.52 0-1.04.2-1.43.59L10.3 9.45l-7.72 7.72c-.78.78-.78 2.05 0 2.83L4 21.41c.39.39.9.59 1.41.59.51 0 1.02-.2 1.41-.59l7.78-7.78 2.81-2.81c.8-.78.8-2.07 0-2.86zM5.41 20L4 18.59l7.72-7.72 1.47 1.35L5.41 20z\"/>\n",
              "  </svg>\n",
              "      </button>\n",
              "      \n",
              "  <style>\n",
              "    .colab-df-container {\n",
              "      display:flex;\n",
              "      flex-wrap:wrap;\n",
              "      gap: 12px;\n",
              "    }\n",
              "\n",
              "    .colab-df-convert {\n",
              "      background-color: #E8F0FE;\n",
              "      border: none;\n",
              "      border-radius: 50%;\n",
              "      cursor: pointer;\n",
              "      display: none;\n",
              "      fill: #1967D2;\n",
              "      height: 32px;\n",
              "      padding: 0 0 0 0;\n",
              "      width: 32px;\n",
              "    }\n",
              "\n",
              "    .colab-df-convert:hover {\n",
              "      background-color: #E2EBFA;\n",
              "      box-shadow: 0px 1px 2px rgba(60, 64, 67, 0.3), 0px 1px 3px 1px rgba(60, 64, 67, 0.15);\n",
              "      fill: #174EA6;\n",
              "    }\n",
              "\n",
              "    [theme=dark] .colab-df-convert {\n",
              "      background-color: #3B4455;\n",
              "      fill: #D2E3FC;\n",
              "    }\n",
              "\n",
              "    [theme=dark] .colab-df-convert:hover {\n",
              "      background-color: #434B5C;\n",
              "      box-shadow: 0px 1px 3px 1px rgba(0, 0, 0, 0.15);\n",
              "      filter: drop-shadow(0px 1px 2px rgba(0, 0, 0, 0.3));\n",
              "      fill: #FFFFFF;\n",
              "    }\n",
              "  </style>\n",
              "\n",
              "      <script>\n",
              "        const buttonEl =\n",
              "          document.querySelector('#df-93b59741-bff8-4343-9e17-5bf72911c837 button.colab-df-convert');\n",
              "        buttonEl.style.display =\n",
              "          google.colab.kernel.accessAllowed ? 'block' : 'none';\n",
              "\n",
              "        async function convertToInteractive(key) {\n",
              "          const element = document.querySelector('#df-93b59741-bff8-4343-9e17-5bf72911c837');\n",
              "          const dataTable =\n",
              "            await google.colab.kernel.invokeFunction('convertToInteractive',\n",
              "                                                     [key], {});\n",
              "          if (!dataTable) return;\n",
              "\n",
              "          const docLinkHtml = 'Like what you see? Visit the ' +\n",
              "            '<a target=\"_blank\" href=https://colab.research.google.com/notebooks/data_table.ipynb>data table notebook</a>'\n",
              "            + ' to learn more about interactive tables.';\n",
              "          element.innerHTML = '';\n",
              "          dataTable['output_type'] = 'display_data';\n",
              "          await google.colab.output.renderOutput(dataTable, element);\n",
              "          const docLink = document.createElement('div');\n",
              "          docLink.innerHTML = docLinkHtml;\n",
              "          element.appendChild(docLink);\n",
              "        }\n",
              "      </script>\n",
              "    </div>\n",
              "  </div>\n",
              "  "
            ]
          },
          "metadata": {},
          "execution_count": 10
        }
      ]
    },
    {
      "cell_type": "markdown",
      "source": [
        "Observa-se que os valores máximos para `price` e `minimum_nights` são € 7.999,00 e 1124 dias, respectivamente, o que mostra a presença dos *outliers*.\n",
        "\n",
        "Pode ser observado que 75% dos valores para a variável `price` estão abaixo de € 104,5 e que 75% das pessoas não alugam mais que 3 noites, além disso a média, parâmetro sensível aos valores, apresenta valores diferentes da mediana, parâmetro mais robusto, o que demonstra a influência dos *outliers*."
      ],
      "metadata": {
        "id": "uef71RI9HV97"
      }
    },
    {
      "cell_type": "markdown",
      "source": [
        "#### Boxplots"
      ],
      "metadata": {
        "id": "IC3P7donInf9"
      }
    },
    {
      "cell_type": "markdown",
      "source": [
        "O Boxplots é uma excelente ferramenta que permite observar de forma rápida uma série de informações, como a distribuição dos *outliers*.\n",
        "\n",
        "Abaixo apresento os boxplots para as variáveis `minimum_nights` e `price` sem qualquer tratamento. "
      ],
      "metadata": {
        "id": "bVAXyXfIkICe"
      }
    },
    {
      "cell_type": "code",
      "source": [
        "# Boxplot minimum_nights\n",
        "df.minimum_nights.plot(kind='box', vert=False, figsize=(15, 3))\n",
        "plt.show()\n",
        "\n",
        "# Quantidade de valores acima de 30 dias e sua porcentagem nos dados\n",
        "print(\"minimum_nights: > 30 dias:\")\n",
        "print(\"{} entradas\".format(len(df[df.minimum_nights > 30])))\n",
        "print(\"{:.4f}%\".format((len(df[df.minimum_nights > 30]) / df.shape[0]*100)))"
      ],
      "metadata": {
        "colab": {
          "base_uri": "https://localhost:8080/",
          "height": 266
        },
        "id": "2QrXRj2TIv0f",
        "outputId": "fad2949f-0207-4e18-b10b-e5484b16762e"
      },
      "execution_count": 11,
      "outputs": [
        {
          "output_type": "display_data",
          "data": {
            "text/plain": [
              "<Figure size 1080x216 with 1 Axes>"
            ],
            "image/png": "[encoded data removed]"
          },
          "metadata": {
            "needs_background": "light"
          }
        },
        {
          "output_type": "stream",
          "name": "stdout",
          "text": [
            "minimum_nights: > 30 dias:\n",
            "18 entradas\n",
            "0.8025%\n"
          ]
        }
      ]
    },
    {
      "cell_type": "code",
      "source": [
        "# Boxplot price\n",
        "df.price.plot(kind='box', vert=False, figsize=(15, 3))\n",
        "plt.show()\n",
        "\n",
        "# Valores acima de 650 euros \n",
        "print(\"price: acima de 650 euros\")\n",
        "print(\"{} entradas\".format(len(df[df.price > 650])))\n",
        "print(\"{:.4f}%\".format((len(df[df.price > 650]) / df.shape[0]*100)))"
      ],
      "metadata": {
        "colab": {
          "base_uri": "https://localhost:8080/",
          "height": 266
        },
        "id": "G4rcJLZSG9aS",
        "outputId": "9d9d4fbf-baeb-4d1c-8305-a2406a941a24"
      },
      "execution_count": 12,
      "outputs": [
        {
          "output_type": "display_data",
          "data": {
            "text/plain": [
              "<Figure size 1080x216 with 1 Axes>"
            ],
            "image/png": "[encoded data removed]"
          },
          "metadata": {
            "needs_background": "light"
          }
        },
        {
          "output_type": "stream",
          "name": "stdout",
          "text": [
            "price: acima de 650 euros\n",
            "21 entradas\n",
            "0.9362%\n"
          ]
        }
      ]
    },
    {
      "cell_type": "markdown",
      "source": [
        "Vemos que para a variável `minimum_nights` há 18 valores para reservas acima de 30 dias, o que representa 0,80% dos valores do dataset, e que para a variável `price` há 21 valores, 0,94%, acima de 650 euros.\n",
        "\n",
        "Vamos realizar o tratamento do dataset a partir do método do IQR - *Interquatile Range* para fazer a retirada dos *outliers* sem prejudicar o dataset."
      ],
      "metadata": {
        "id": "frAAo9PfLdSl"
      }
    },
    {
      "cell_type": "markdown",
      "source": [
        "#### Limpando o Dataset"
      ],
      "metadata": {
        "id": "QfeHzSEVM_2p"
      }
    },
    {
      "cell_type": "code",
      "source": [
        "# Tratando da variável price\n",
        "\n",
        "# 1º - Definindo Q1 e Q3\n",
        "q1_price = df.price.quantile(.25)\n",
        "q3_price = df.price.quantile(.75)\n",
        "\n",
        "# 2º - Calculando IQR\n",
        "IQR_price = q3_price-q1_price\n",
        "\n",
        "# 3º - Definido os limites superior e inferior do Boxplots\n",
        "sup_price = q3_price + 1.5*IQR_price\n",
        "inf_price = q1_price - 1.5*IQR_price\n",
        "#print('Valores dos limites superior e inferior do boxplot: {} e {}'.format(sup_price, inf_price))\n",
        "\n",
        "# 4º - Removendo os outliers\n",
        "df_clean = df.copy()\n",
        "df_clean.drop(df_clean[df_clean.price > sup_price].index, axis=0, inplace=True)\n",
        "df_clean.drop(df_clean[df_clean.price == 0].index, axis=0, inplace=True)"
      ],
      "metadata": {
        "id": "9bRHddHJ_3LL"
      },
      "execution_count": 13,
      "outputs": []
    },
    {
      "cell_type": "code",
      "source": [
        "# Boxplot price\n",
        "df_clean.price.plot(kind='box', vert=False, figsize=(15, 3))\n",
        "plt.show()\n"
      ],
      "metadata": {
        "colab": {
          "base_uri": "https://localhost:8080/",
          "height": 211
        },
        "id": "9DyHa3tSCE6h",
        "outputId": "3d301c02-e4a2-47b3-b8a9-adeddee364cb"
      },
      "execution_count": 14,
      "outputs": [
        {
          "output_type": "display_data",
          "data": {
            "text/plain": [
              "<Figure size 1080x216 with 1 Axes>"
            ],
            "image/png": "[encoded data removed]"
          },
          "metadata": {
            "needs_background": "light"
          }
        }
      ]
    },
    {
      "cell_type": "code",
      "source": [
        "# Tratando da variável minimum_nights\n",
        "\n",
        "# 1º - Definindo Q1 e Q3\n",
        "q1_minimum_nights = df.minimum_nights.quantile(.25)\n",
        "q3_minimum_nights = df.minimum_nights.quantile(.75)\n",
        "\n",
        "#print(\"q1: {} dias\".format(q1_minimum_nights))\n",
        "#print(\"q3: {} dias\".format(q3_minimum_nights))\n",
        "\n",
        "# 2º - Calculando IQR\n",
        "IQR_minimum_nights = q3_minimum_nights-q1_minimum_nights\n",
        "\n",
        "# 3º - Definido os limites superior e inferior do Boxplots\n",
        "sup_minimum_nights = q3_minimum_nights + 1.5*IQR_minimum_nights\n",
        "inf_minimum_nights = q1_minimum_nights - 1.5*IQR_minimum_nights\n",
        "\n",
        "#print(\"sup_minimum_nights: {} dias\".format(sup_minimum_nights))\n",
        "#print(\"inf_minimum_nights: {} dias\".format(inf_minimum_nights))\n",
        "\n",
        "# 4º - Removendo os outliers\n",
        "df_clean.drop(df_clean[df_clean.minimum_nights > sup_minimum_nights].index, axis=0, inplace=True)\n",
        "df_clean.drop(df_clean[df_clean.minimum_nights == 0].index, axis=0, inplace=True)"
      ],
      "metadata": {
        "id": "5gawghr0CRzQ"
      },
      "execution_count": 15,
      "outputs": []
    },
    {
      "cell_type": "code",
      "source": [
        "df_clean.minimum_nights.plot(kind='box', vert=False, figsize=(15, 3))\n",
        "plt.show()"
      ],
      "metadata": {
        "colab": {
          "base_uri": "https://localhost:8080/",
          "height": 211
        },
        "id": "7VkeCKKpr2Xy",
        "outputId": "0cc495c1-3ab5-43bf-b4f5-d7ebd7831761"
      },
      "execution_count": 16,
      "outputs": [
        {
          "output_type": "display_data",
          "data": {
            "text/plain": [
              "<Figure size 1080x216 with 1 Axes>"
            ],
            "image/png": "[encoded data removed]"
          },
          "metadata": {
            "needs_background": "light"
          }
        }
      ]
    },
    {
      "cell_type": "code",
      "source": [
        "df_clean[['price', 'minimum_nights']].describe()"
      ],
      "metadata": {
        "colab": {
          "base_uri": "https://localhost:8080/",
          "height": 300
        },
        "id": "2md3-R5Ul0zi",
        "outputId": "871d3430-147e-4486-feb4-98e5e6a1eb11"
      },
      "execution_count": 17,
      "outputs": [
        {
          "output_type": "execute_result",
          "data": {
            "text/plain": [
              "             price  minimum_nights\n",
              "count  1906.000000     1906.000000\n",
              "mean     76.730325        1.896642\n",
              "std      35.825762        1.130033\n",
              "min       9.000000        1.000000\n",
              "25%      50.000000        1.000000\n",
              "50%      69.000000        2.000000\n",
              "75%      94.000000        2.000000\n",
              "max     186.000000        6.000000"
            ],
            "text/html": [
              "\n",
              "  <div id=\"df-1affeaff-b9ed-4508-8908-44889d6e1d04\">\n",
              "    <div class=\"colab-df-container\">\n",
              "      <div>\n",
              "<style scoped>\n",
              "    .dataframe tbody tr th:only-of-type {\n",
              "        vertical-align: middle;\n",
              "    }\n",
              "\n",
              "    .dataframe tbody tr th {\n",
              "        vertical-align: top;\n",
              "    }\n",
              "\n",
              "    .dataframe thead th {\n",
              "        text-align: right;\n",
              "    }\n",
              "</style>\n",
              "<table border=\"1\" class=\"dataframe\">\n",
              "  <thead>\n",
              "    <tr style=\"text-align: right;\">\n",
              "      <th></th>\n",
              "      <th>price</th>\n",
              "      <th>minimum_nights</th>\n",
              "    </tr>\n",
              "  </thead>\n",
              "  <tbody>\n",
              "    <tr>\n",
              "      <th>count</th>\n",
              "      <td>1906.000000</td>\n",
              "      <td>1906.000000</td>\n",
              "    </tr>\n",
              "    <tr>\n",
              "      <th>mean</th>\n",
              "      <td>76.730325</td>\n",
              "      <td>1.896642</td>\n",
              "    </tr>\n",
              "    <tr>\n",
              "      <th>std</th>\n",
              "      <td>35.825762</td>\n",
              "      <td>1.130033</td>\n",
              "    </tr>\n",
              "    <tr>\n",
              "      <th>min</th>\n",
              "      <td>9.000000</td>\n",
              "      <td>1.000000</td>\n",
              "    </tr>\n",
              "    <tr>\n",
              "      <th>25%</th>\n",
              "      <td>50.000000</td>\n",
              "      <td>1.000000</td>\n",
              "    </tr>\n",
              "    <tr>\n",
              "      <th>50%</th>\n",
              "      <td>69.000000</td>\n",
              "      <td>2.000000</td>\n",
              "    </tr>\n",
              "    <tr>\n",
              "      <th>75%</th>\n",
              "      <td>94.000000</td>\n",
              "      <td>2.000000</td>\n",
              "    </tr>\n",
              "    <tr>\n",
              "      <th>max</th>\n",
              "      <td>186.000000</td>\n",
              "      <td>6.000000</td>\n",
              "    </tr>\n",
              "  </tbody>\n",
              "</table>\n",
              "</div>\n",
              "      <button class=\"colab-df-convert\" onclick=\"convertToInteractive('df-1affeaff-b9ed-4508-8908-44889d6e1d04')\"\n",
              "              title=\"Convert this dataframe to an interactive table.\"\n",
              "              style=\"display:none;\">\n",
              "        \n",
              "  <svg xmlns=\"http://www.w3.org/2000/svg\" height=\"24px\"viewBox=\"0 0 24 24\"\n",
              "       width=\"24px\">\n",
              "    <path d=\"M0 0h24v24H0V0z\" fill=\"none\"/>\n",
              "    <path d=\"M18.56 5.44l.94 2.06.94-2.06 2.06-.94-2.06-.94-.94-2.06-.94 2.06-2.06.94zm-11 1L8.5 8.5l.94-2.06 2.06-.94-2.06-.94L8.5 2.5l-.94 2.06-2.06.94zm10 10l.94 2.06.94-2.06 2.06-.94-2.06-.94-.94-2.06-.94 2.06-2.06.94z\"/><path d=\"M17.41 7.96l-1.37-1.37c-.4-.4-.92-.59-1.43-.59-.52 0-1.04.2-1.43.59L10.3 9.45l-7.72 7.72c-.78.78-.78 2.05 0 2.83L4 21.41c.39.39.9.59 1.41.59.51 0 1.02-.2 1.41-.59l7.78-7.78 2.81-2.81c.8-.78.8-2.07 0-2.86zM5.41 20L4 18.59l7.72-7.72 1.47 1.35L5.41 20z\"/>\n",
              "  </svg>\n",
              "      </button>\n",
              "      \n",
              "  <style>\n",
              "    .colab-df-container {\n",
              "      display:flex;\n",
              "      flex-wrap:wrap;\n",
              "      gap: 12px;\n",
              "    }\n",
              "\n",
              "    .colab-df-convert {\n",
              "      background-color: #E8F0FE;\n",
              "      border: none;\n",
              "      border-radius: 50%;\n",
              "      cursor: pointer;\n",
              "      display: none;\n",
              "      fill: #1967D2;\n",
              "      height: 32px;\n",
              "      padding: 0 0 0 0;\n",
              "      width: 32px;\n",
              "    }\n",
              "\n",
              "    .colab-df-convert:hover {\n",
              "      background-color: #E2EBFA;\n",
              "      box-shadow: 0px 1px 2px rgba(60, 64, 67, 0.3), 0px 1px 3px 1px rgba(60, 64, 67, 0.15);\n",
              "      fill: #174EA6;\n",
              "    }\n",
              "\n",
              "    [theme=dark] .colab-df-convert {\n",
              "      background-color: #3B4455;\n",
              "      fill: #D2E3FC;\n",
              "    }\n",
              "\n",
              "    [theme=dark] .colab-df-convert:hover {\n",
              "      background-color: #434B5C;\n",
              "      box-shadow: 0px 1px 3px 1px rgba(0, 0, 0, 0.15);\n",
              "      filter: drop-shadow(0px 1px 2px rgba(0, 0, 0, 0.3));\n",
              "      fill: #FFFFFF;\n",
              "    }\n",
              "  </style>\n",
              "\n",
              "      <script>\n",
              "        const buttonEl =\n",
              "          document.querySelector('#df-1affeaff-b9ed-4508-8908-44889d6e1d04 button.colab-df-convert');\n",
              "        buttonEl.style.display =\n",
              "          google.colab.kernel.accessAllowed ? 'block' : 'none';\n",
              "\n",
              "        async function convertToInteractive(key) {\n",
              "          const element = document.querySelector('#df-1affeaff-b9ed-4508-8908-44889d6e1d04');\n",
              "          const dataTable =\n",
              "            await google.colab.kernel.invokeFunction('convertToInteractive',\n",
              "                                                     [key], {});\n",
              "          if (!dataTable) return;\n",
              "\n",
              "          const docLinkHtml = 'Like what you see? Visit the ' +\n",
              "            '<a target=\"_blank\" href=https://colab.research.google.com/notebooks/data_table.ipynb>data table notebook</a>'\n",
              "            + ' to learn more about interactive tables.';\n",
              "          element.innerHTML = '';\n",
              "          dataTable['output_type'] = 'display_data';\n",
              "          await google.colab.output.renderOutput(dataTable, element);\n",
              "          const docLink = document.createElement('div');\n",
              "          docLink.innerHTML = docLinkHtml;\n",
              "          element.appendChild(docLink);\n",
              "        }\n",
              "      </script>\n",
              "    </div>\n",
              "  </div>\n",
              "  "
            ]
          },
          "metadata": {},
          "execution_count": 17
        }
      ]
    },
    {
      "cell_type": "markdown",
      "source": [
        "Com a retirada dos *outliers* percebe-se como os gráficos de Boxplots mudaram totalmente o seu formato.\n",
        "\n",
        "Na tabela é possível perceber que a média e a mediana estão mais próximas, o que demostra a redução da influência dos *outliers*. Também é possível perceber a redução do desvio padrão (*std*) para as duas variáveis.\n",
        "\n",
        "Por fim, nota-se a diminuição dos valores máximos dessas variáveis."
      ],
      "metadata": {
        "id": "kz-Pi5ZqCAh0"
      }
    },
    {
      "cell_type": "code",
      "source": [
        "# Plotando o histograma novamente após a limpeza dos outliers\n",
        "df_clean.hist(bins=15, figsize=(15,10));"
      ],
      "metadata": {
        "colab": {
          "base_uri": "https://localhost:8080/",
          "height": 606
        },
        "id": "PGpRMWdQNFY5",
        "outputId": "ab781b74-b8b9-4a05-a6da-5c3fa2c5769d"
      },
      "execution_count": 18,
      "outputs": [
        {
          "output_type": "display_data",
          "data": {
            "text/plain": [
              "<Figure size 1080x720 with 12 Axes>"
            ],
            "image/png": "[encoded data removed]"
          },
          "metadata": {
            "needs_background": "light"
          }
        }
      ]
    },
    {
      "cell_type": "markdown",
      "source": [
        "Agora é possível observar melhor a distibuição dos valores para as variáveis `price` e `minimum_nights`.\n",
        "\n",
        "Para a `price` vemos um aumento do valor dos imóveis até € 50, seguida de uma diminuição, o que mostra que as pessoas estão mais dispostas a pagar um valor de hospedagem em torno desse valor; enquanto que para a variável `minimum_nights` a hospedagem mínima de 1 dia é a que possui a maior quantidade de imóveis disponíveis, reduzindo rapidamente a medida em que o número de dias para hospedagem aumenta."
      ],
      "metadata": {
        "id": "hj4AvelqUVl3"
      }
    },
    {
      "cell_type": "code",
      "metadata": {
        "id": "ff-8gUahLk-C",
        "colab": {
          "base_uri": "https://localhost:8080/"
        },
        "outputId": "c459f8bf-c12f-4331-954d-701442883d01"
      },
      "source": [
        "# ver a média da coluna `price`\n",
        "print(\"média_price:\")\n",
        "df_clean['price'].mean()"
      ],
      "execution_count": 19,
      "outputs": [
        {
          "output_type": "stream",
          "name": "stdout",
          "text": [
            "média_price:\n"
          ]
        },
        {
          "output_type": "execute_result",
          "data": {
            "text/plain": [
              "76.73032528856244"
            ]
          },
          "metadata": {},
          "execution_count": 19
        }
      ]
    },
    {
      "cell_type": "markdown",
      "source": [
        "Com a limpeza do dataset observar-se o comportamento das variáveis ainda mais próximas da realidade.\n",
        "\n",
        "Isso pode ser explicado melhor a partir do valor médio da hospedagem. Antes o valor médio era de € 125,48, com a limpeza do dataset o valor passou a ser de € 76,73, diferença de quase 40%. Alinhado ao que é observado no histogrma, um número reduzido de pessoas pagam acima de € 100,00."
      ],
      "metadata": {
        "id": "eZ6z_8NcSfqX"
      }
    },
    {
      "cell_type": "markdown",
      "source": [
        "A correlação expressa se há ou não uma relação entre duas ou mais variáveis. A partir do gráfico de *heatmap* é possível ver essas relações de forma rápida.\n",
        "\n",
        "Será feito uma matriz de correlação e em seguida será feito um gráfico de *Heatmap*."
      ],
      "metadata": {
        "id": "hA1HoUgRTxx8"
      }
    },
    {
      "cell_type": "code",
      "metadata": {
        "id": "x2ayzBajqxyd",
        "colab": {
          "base_uri": "https://localhost:8080/",
          "height": 174
        },
        "outputId": "61361cc2-a457-45b4-dfae-807cad96717b"
      },
      "source": [
        "# criar uma matriz de correlação\n",
        "correlacao = df_clean[['price', 'minimum_nights', 'calculated_host_listings_count', 'availability_365']].corr()\n",
        "# mostrar a matriz de correlação\n",
        "display (correlacao)"
      ],
      "execution_count": 20,
      "outputs": [
        {
          "output_type": "display_data",
          "data": {
            "text/plain": [
              "                                   price  minimum_nights  \\\n",
              "price                           1.000000       -0.009636   \n",
              "minimum_nights                 -0.009636        1.000000   \n",
              "calculated_host_listings_count  0.278272       -0.039068   \n",
              "availability_365                0.186057       -0.126106   \n",
              "\n",
              "                                calculated_host_listings_count  \\\n",
              "price                                                 0.278272   \n",
              "minimum_nights                                       -0.039068   \n",
              "calculated_host_listings_count                        1.000000   \n",
              "availability_365                                      0.164011   \n",
              "\n",
              "                                availability_365  \n",
              "price                                   0.186057  \n",
              "minimum_nights                         -0.126106  \n",
              "calculated_host_listings_count          0.164011  \n",
              "availability_365                        1.000000  "
            ],
            "text/html": [
              "\n",
              "  <div id=\"df-ae6da84c-a928-46c0-835b-2f1c0da53e17\">\n",
              "    <div class=\"colab-df-container\">\n",
              "      <div>\n",
              "<style scoped>\n",
              "    .dataframe tbody tr th:only-of-type {\n",
              "        vertical-align: middle;\n",
              "    }\n",
              "\n",
              "    .dataframe tbody tr th {\n",
              "        vertical-align: top;\n",
              "    }\n",
              "\n",
              "    .dataframe thead th {\n",
              "        text-align: right;\n",
              "    }\n",
              "</style>\n",
              "<table border=\"1\" class=\"dataframe\">\n",
              "  <thead>\n",
              "    <tr style=\"text-align: right;\">\n",
              "      <th></th>\n",
              "      <th>price</th>\n",
              "      <th>minimum_nights</th>\n",
              "      <th>calculated_host_listings_count</th>\n",
              "      <th>availability_365</th>\n",
              "    </tr>\n",
              "  </thead>\n",
              "  <tbody>\n",
              "    <tr>\n",
              "      <th>price</th>\n",
              "      <td>1.000000</td>\n",
              "      <td>-0.009636</td>\n",
              "      <td>0.278272</td>\n",
              "      <td>0.186057</td>\n",
              "    </tr>\n",
              "    <tr>\n",
              "      <th>minimum_nights</th>\n",
              "      <td>-0.009636</td>\n",
              "      <td>1.000000</td>\n",
              "      <td>-0.039068</td>\n",
              "      <td>-0.126106</td>\n",
              "    </tr>\n",
              "    <tr>\n",
              "      <th>calculated_host_listings_count</th>\n",
              "      <td>0.278272</td>\n",
              "      <td>-0.039068</td>\n",
              "      <td>1.000000</td>\n",
              "      <td>0.164011</td>\n",
              "    </tr>\n",
              "    <tr>\n",
              "      <th>availability_365</th>\n",
              "      <td>0.186057</td>\n",
              "      <td>-0.126106</td>\n",
              "      <td>0.164011</td>\n",
              "      <td>1.000000</td>\n",
              "    </tr>\n",
              "  </tbody>\n",
              "</table>\n",
              "</div>\n",
              "      <button class=\"colab-df-convert\" onclick=\"convertToInteractive('df-ae6da84c-a928-46c0-835b-2f1c0da53e17')\"\n",
              "              title=\"Convert this dataframe to an interactive table.\"\n",
              "              style=\"display:none;\">\n",
              "        \n",
              "  <svg xmlns=\"http://www.w3.org/2000/svg\" height=\"24px\"viewBox=\"0 0 24 24\"\n",
              "       width=\"24px\">\n",
              "    <path d=\"M0 0h24v24H0V0z\" fill=\"none\"/>\n",
              "    <path d=\"M18.56 5.44l.94 2.06.94-2.06 2.06-.94-2.06-.94-.94-2.06-.94 2.06-2.06.94zm-11 1L8.5 8.5l.94-2.06 2.06-.94-2.06-.94L8.5 2.5l-.94 2.06-2.06.94zm10 10l.94 2.06.94-2.06 2.06-.94-2.06-.94-.94-2.06-.94 2.06-2.06.94z\"/><path d=\"M17.41 7.96l-1.37-1.37c-.4-.4-.92-.59-1.43-.59-.52 0-1.04.2-1.43.59L10.3 9.45l-7.72 7.72c-.78.78-.78 2.05 0 2.83L4 21.41c.39.39.9.59 1.41.59.51 0 1.02-.2 1.41-.59l7.78-7.78 2.81-2.81c.8-.78.8-2.07 0-2.86zM5.41 20L4 18.59l7.72-7.72 1.47 1.35L5.41 20z\"/>\n",
              "  </svg>\n",
              "      </button>\n",
              "      \n",
              "  <style>\n",
              "    .colab-df-container {\n",
              "      display:flex;\n",
              "      flex-wrap:wrap;\n",
              "      gap: 12px;\n",
              "    }\n",
              "\n",
              "    .colab-df-convert {\n",
              "      background-color: #E8F0FE;\n",
              "      border: none;\n",
              "      border-radius: 50%;\n",
              "      cursor: pointer;\n",
              "      display: none;\n",
              "      fill: #1967D2;\n",
              "      height: 32px;\n",
              "      padding: 0 0 0 0;\n",
              "      width: 32px;\n",
              "    }\n",
              "\n",
              "    .colab-df-convert:hover {\n",
              "      background-color: #E2EBFA;\n",
              "      box-shadow: 0px 1px 2px rgba(60, 64, 67, 0.3), 0px 1px 3px 1px rgba(60, 64, 67, 0.15);\n",
              "      fill: #174EA6;\n",
              "    }\n",
              "\n",
              "    [theme=dark] .colab-df-convert {\n",
              "      background-color: #3B4455;\n",
              "      fill: #D2E3FC;\n",
              "    }\n",
              "\n",
              "    [theme=dark] .colab-df-convert:hover {\n",
              "      background-color: #434B5C;\n",
              "      box-shadow: 0px 1px 3px 1px rgba(0, 0, 0, 0.15);\n",
              "      filter: drop-shadow(0px 1px 2px rgba(0, 0, 0, 0.3));\n",
              "      fill: #FFFFFF;\n",
              "    }\n",
              "  </style>\n",
              "\n",
              "      <script>\n",
              "        const buttonEl =\n",
              "          document.querySelector('#df-ae6da84c-a928-46c0-835b-2f1c0da53e17 button.colab-df-convert');\n",
              "        buttonEl.style.display =\n",
              "          google.colab.kernel.accessAllowed ? 'block' : 'none';\n",
              "\n",
              "        async function convertToInteractive(key) {\n",
              "          const element = document.querySelector('#df-ae6da84c-a928-46c0-835b-2f1c0da53e17');\n",
              "          const dataTable =\n",
              "            await google.colab.kernel.invokeFunction('convertToInteractive',\n",
              "                                                     [key], {});\n",
              "          if (!dataTable) return;\n",
              "\n",
              "          const docLinkHtml = 'Like what you see? Visit the ' +\n",
              "            '<a target=\"_blank\" href=https://colab.research.google.com/notebooks/data_table.ipynb>data table notebook</a>'\n",
              "            + ' to learn more about interactive tables.';\n",
              "          element.innerHTML = '';\n",
              "          dataTable['output_type'] = 'display_data';\n",
              "          await google.colab.output.renderOutput(dataTable, element);\n",
              "          const docLink = document.createElement('div');\n",
              "          docLink.innerHTML = docLinkHtml;\n",
              "          element.appendChild(docLink);\n",
              "        }\n",
              "      </script>\n",
              "    </div>\n",
              "  </div>\n",
              "  "
            ]
          },
          "metadata": {}
        }
      ]
    },
    {
      "cell_type": "code",
      "metadata": {
        "id": "91UujDr6ueqE",
        "colab": {
          "base_uri": "https://localhost:8080/",
          "height": 411
        },
        "outputId": "dc60dff8-3bfa-4287-f487-56eaf51995d0"
      },
      "source": [
        "# plotar um heatmap a partir das correlações\n",
        "sns.heatmap(correlacao, cmap='RdBu', fmt='.2f', square=True, linecolor='white', annot=True);"
      ],
      "execution_count": 21,
      "outputs": [
        {
          "output_type": "display_data",
          "data": {
            "text/plain": [
              "<Figure size 432x288 with 2 Axes>"
            ],
            "image/png": "[encoded data removed]"
          },
          "metadata": {
            "needs_background": "light"
          }
        }
      ]
    },
    {
      "cell_type": "markdown",
      "source": [
        "O gráfico *heatmap* não apresentou nenhuma forte correlação entre as variáveis analisadas."
      ],
      "metadata": {
        "id": "YSCT_cW6cglp"
      }
    },
    {
      "cell_type": "markdown",
      "metadata": {
        "id": "7b6RMWpuHKN-"
      },
      "source": [
        "O Airbnb dá várias opções de reservas, a variável `room_type` apresenta os tipos de imóveis.\n",
        "\n",
        "Abaixo vemos a quantidade dos tipos de imóveis e seu valor em percentagem."
      ]
    },
    {
      "cell_type": "code",
      "metadata": {
        "id": "ueLPNWvPHgfB",
        "colab": {
          "base_uri": "https://localhost:8080/"
        },
        "outputId": "dbe5240c-6660-46bb-c674-29a6d65b676a"
      },
      "source": [
        "# mostrar a quantidade disponiveis para cada tipo de imóvel\n",
        "df_clean.room_type.value_counts()"
      ],
      "execution_count": 22,
      "outputs": [
        {
          "output_type": "execute_result",
          "data": {
            "text/plain": [
              "Entire home/apt    1425\n",
              "Private room        444\n",
              "Hotel room           29\n",
              "Shared room           8\n",
              "Name: room_type, dtype: int64"
            ]
          },
          "metadata": {},
          "execution_count": 22
        }
      ]
    },
    {
      "cell_type": "code",
      "metadata": {
        "id": "EvwoO-XAHhIm",
        "colab": {
          "base_uri": "https://localhost:8080/"
        },
        "outputId": "077305b3-a67e-4ed1-c1b6-1726c620175b"
      },
      "source": [
        "# mostrar a porcentagem de cada tipo de imóvel disponível\n",
        "df_clean.room_type.value_counts() / df_clean.shape[0]"
      ],
      "execution_count": 23,
      "outputs": [
        {
          "output_type": "execute_result",
          "data": {
            "text/plain": [
              "Entire home/apt    0.747639\n",
              "Private room       0.232949\n",
              "Hotel room         0.015215\n",
              "Shared room        0.004197\n",
              "Name: room_type, dtype: float64"
            ]
          },
          "metadata": {},
          "execution_count": 23
        }
      ]
    },
    {
      "cell_type": "markdown",
      "source": [
        "Os principais tipos de imóveis disponíveis são casas ou apartamentos inteiros, aproximadmente 75%, e o segundo são quartos privados, 23%."
      ],
      "metadata": {
        "id": "P10S0AqXpndQ"
      }
    },
    {
      "cell_type": "markdown",
      "metadata": {
        "id": "MFa5NbnLJMcd"
      },
      "source": [
        "Vamos observar aonde estãos os bairros de Bérgamo com os valores mais altos."
      ]
    },
    {
      "cell_type": "code",
      "metadata": {
        "id": "MD_xa143JZpi",
        "colab": {
          "base_uri": "https://localhost:8080/"
        },
        "outputId": "dffb1d4f-c323-4938-ac07-e3edc92bd59e"
      },
      "source": [
        "# ver preços por bairros, na média\n",
        "df_clean.groupby(['neighbourhood']).price.mean().sort_values(ascending=False)[:10]"
      ],
      "execution_count": 26,
      "outputs": [
        {
          "output_type": "execute_result",
          "data": {
            "text/plain": [
              "neighbourhood\n",
              "Pianico           185.0\n",
              "Bonate Sotto      156.0\n",
              "Foresto Sparso    155.0\n",
              "Fino del Monte    145.5\n",
              "Bianzano          137.5\n",
              "Valnegra          136.0\n",
              "Taleggio          133.0\n",
              "Selvino           132.5\n",
              "Mezzoldo          128.0\n",
              "Valbrembo         124.0\n",
              "Name: price, dtype: float64"
            ]
          },
          "metadata": {},
          "execution_count": 26
        }
      ]
    },
    {
      "cell_type": "markdown",
      "source": [
        "Acima é apresentado os 10 bairros com os maiores valores médios."
      ],
      "metadata": {
        "id": "9ROl8Hk1389E"
      }
    },
    {
      "cell_type": "markdown",
      "source": [
        "Conforme pode ser visto abaixo, alguns dos bairros com os maiores valores médios de hospedagem não apresentam um número de imóveis deforma a representa significativamente o preço médio da região."
      ],
      "metadata": {
        "id": "EG8B_wvFrej9"
      }
    },
    {
      "cell_type": "code",
      "source": [
        "df_clean[df_clean.neighbourhood == \"Pianico\"]"
      ],
      "metadata": {
        "colab": {
          "base_uri": "https://localhost:8080/",
          "height": 196
        },
        "id": "j2UdAufyph3d",
        "outputId": "a6518e70-3597-4181-d22c-6e086f0caed6"
      },
      "execution_count": 54,
      "outputs": [
        {
          "output_type": "execute_result",
          "data": {
            "text/plain": [
              "            id                          name    host_id     host_name  \\\n",
              "1491  40796817  Feel at Home - VILLA ULIVETA  131153491  Feel At Home   \n",
              "\n",
              "     neighbourhood  latitude  longitude        room_type  price  \\\n",
              "1491       Pianico  45.80841   10.03632  Entire home/apt    185   \n",
              "\n",
              "      minimum_nights  number_of_reviews  calculated_host_listings_count  \\\n",
              "1491               2                  4                              15   \n",
              "\n",
              "      availability_365  number_of_reviews_ltm  \n",
              "1491               342                      1  "
            ],
            "text/html": [
              "\n",
              "  <div id=\"df-154ba5d1-2aff-49f4-bcea-2b210fe5fd8c\">\n",
              "    <div class=\"colab-df-container\">\n",
              "      <div>\n",
              "<style scoped>\n",
              "    .dataframe tbody tr th:only-of-type {\n",
              "        vertical-align: middle;\n",
              "    }\n",
              "\n",
              "    .dataframe tbody tr th {\n",
              "        vertical-align: top;\n",
              "    }\n",
              "\n",
              "    .dataframe thead th {\n",
              "        text-align: right;\n",
              "    }\n",
              "</style>\n",
              "<table border=\"1\" class=\"dataframe\">\n",
              "  <thead>\n",
              "    <tr style=\"text-align: right;\">\n",
              "      <th></th>\n",
              "      <th>id</th>\n",
              "      <th>name</th>\n",
              "      <th>host_id</th>\n",
              "      <th>host_name</th>\n",
              "      <th>neighbourhood</th>\n",
              "      <th>latitude</th>\n",
              "      <th>longitude</th>\n",
              "      <th>room_type</th>\n",
              "      <th>price</th>\n",
              "      <th>minimum_nights</th>\n",
              "      <th>number_of_reviews</th>\n",
              "      <th>calculated_host_listings_count</th>\n",
              "      <th>availability_365</th>\n",
              "      <th>number_of_reviews_ltm</th>\n",
              "    </tr>\n",
              "  </thead>\n",
              "  <tbody>\n",
              "    <tr>\n",
              "      <th>1491</th>\n",
              "      <td>40796817</td>\n",
              "      <td>Feel at Home - VILLA ULIVETA</td>\n",
              "      <td>131153491</td>\n",
              "      <td>Feel At Home</td>\n",
              "      <td>Pianico</td>\n",
              "      <td>45.80841</td>\n",
              "      <td>10.03632</td>\n",
              "      <td>Entire home/apt</td>\n",
              "      <td>185</td>\n",
              "      <td>2</td>\n",
              "      <td>4</td>\n",
              "      <td>15</td>\n",
              "      <td>342</td>\n",
              "      <td>1</td>\n",
              "    </tr>\n",
              "  </tbody>\n",
              "</table>\n",
              "</div>\n",
              "      <button class=\"colab-df-convert\" onclick=\"convertToInteractive('df-154ba5d1-2aff-49f4-bcea-2b210fe5fd8c')\"\n",
              "              title=\"Convert this dataframe to an interactive table.\"\n",
              "              style=\"display:none;\">\n",
              "        \n",
              "  <svg xmlns=\"http://www.w3.org/2000/svg\" height=\"24px\"viewBox=\"0 0 24 24\"\n",
              "       width=\"24px\">\n",
              "    <path d=\"M0 0h24v24H0V0z\" fill=\"none\"/>\n",
              "    <path d=\"M18.56 5.44l.94 2.06.94-2.06 2.06-.94-2.06-.94-.94-2.06-.94 2.06-2.06.94zm-11 1L8.5 8.5l.94-2.06 2.06-.94-2.06-.94L8.5 2.5l-.94 2.06-2.06.94zm10 10l.94 2.06.94-2.06 2.06-.94-2.06-.94-.94-2.06-.94 2.06-2.06.94z\"/><path d=\"M17.41 7.96l-1.37-1.37c-.4-.4-.92-.59-1.43-.59-.52 0-1.04.2-1.43.59L10.3 9.45l-7.72 7.72c-.78.78-.78 2.05 0 2.83L4 21.41c.39.39.9.59 1.41.59.51 0 1.02-.2 1.41-.59l7.78-7.78 2.81-2.81c.8-.78.8-2.07 0-2.86zM5.41 20L4 18.59l7.72-7.72 1.47 1.35L5.41 20z\"/>\n",
              "  </svg>\n",
              "      </button>\n",
              "      \n",
              "  <style>\n",
              "    .colab-df-container {\n",
              "      display:flex;\n",
              "      flex-wrap:wrap;\n",
              "      gap: 12px;\n",
              "    }\n",
              "\n",
              "    .colab-df-convert {\n",
              "      background-color: #E8F0FE;\n",
              "      border: none;\n",
              "      border-radius: 50%;\n",
              "      cursor: pointer;\n",
              "      display: none;\n",
              "      fill: #1967D2;\n",
              "      height: 32px;\n",
              "      padding: 0 0 0 0;\n",
              "      width: 32px;\n",
              "    }\n",
              "\n",
              "    .colab-df-convert:hover {\n",
              "      background-color: #E2EBFA;\n",
              "      box-shadow: 0px 1px 2px rgba(60, 64, 67, 0.3), 0px 1px 3px 1px rgba(60, 64, 67, 0.15);\n",
              "      fill: #174EA6;\n",
              "    }\n",
              "\n",
              "    [theme=dark] .colab-df-convert {\n",
              "      background-color: #3B4455;\n",
              "      fill: #D2E3FC;\n",
              "    }\n",
              "\n",
              "    [theme=dark] .colab-df-convert:hover {\n",
              "      background-color: #434B5C;\n",
              "      box-shadow: 0px 1px 3px 1px rgba(0, 0, 0, 0.15);\n",
              "      filter: drop-shadow(0px 1px 2px rgba(0, 0, 0, 0.3));\n",
              "      fill: #FFFFFF;\n",
              "    }\n",
              "  </style>\n",
              "\n",
              "      <script>\n",
              "        const buttonEl =\n",
              "          document.querySelector('#df-154ba5d1-2aff-49f4-bcea-2b210fe5fd8c button.colab-df-convert');\n",
              "        buttonEl.style.display =\n",
              "          google.colab.kernel.accessAllowed ? 'block' : 'none';\n",
              "\n",
              "        async function convertToInteractive(key) {\n",
              "          const element = document.querySelector('#df-154ba5d1-2aff-49f4-bcea-2b210fe5fd8c');\n",
              "          const dataTable =\n",
              "            await google.colab.kernel.invokeFunction('convertToInteractive',\n",
              "                                                     [key], {});\n",
              "          if (!dataTable) return;\n",
              "\n",
              "          const docLinkHtml = 'Like what you see? Visit the ' +\n",
              "            '<a target=\"_blank\" href=https://colab.research.google.com/notebooks/data_table.ipynb>data table notebook</a>'\n",
              "            + ' to learn more about interactive tables.';\n",
              "          element.innerHTML = '';\n",
              "          dataTable['output_type'] = 'display_data';\n",
              "          await google.colab.output.renderOutput(dataTable, element);\n",
              "          const docLink = document.createElement('div');\n",
              "          docLink.innerHTML = docLinkHtml;\n",
              "          element.appendChild(docLink);\n",
              "        }\n",
              "      </script>\n",
              "    </div>\n",
              "  </div>\n",
              "  "
            ]
          },
          "metadata": {},
          "execution_count": 54
        }
      ]
    },
    {
      "cell_type": "code",
      "source": [
        "df_clean[df_clean.neighbourhood == \"Selvino\"]"
      ],
      "metadata": {
        "colab": {
          "base_uri": "https://localhost:8080/",
          "height": 430
        },
        "id": "tMXT8pCm1HT2",
        "outputId": "42c060a1-6180-44c5-cf38-a8888f35a50a"
      },
      "execution_count": 58,
      "outputs": [
        {
          "output_type": "execute_result",
          "data": {
            "text/plain": [
              "            id                                        name    host_id  \\\n",
              "881   24199715                                        Alba  138516320   \n",
              "1347  36436015                           La casa nel bosco   16101206   \n",
              "1594  43124267  Contessa Pace - Luxury flat “App. Perello”  153217133   \n",
              "1595  43130318   Contessa Pace - Luxury flat “App. Poieto”  153217133   \n",
              "\n",
              "      host_name neighbourhood  latitude  longitude        room_type  price  \\\n",
              "881     Sabrina       Selvino  45.77956    9.74717  Entire home/apt    110   \n",
              "1347      Laura       Selvino  45.77794    9.74820  Entire home/apt    120   \n",
              "1594  Gabriella       Selvino  45.78227    9.74765  Entire home/apt    150   \n",
              "1595  Gabriella       Selvino  45.78237    9.74771  Entire home/apt    150   \n",
              "\n",
              "      minimum_nights  number_of_reviews  calculated_host_listings_count  \\\n",
              "881                1                  1                               1   \n",
              "1347               3                  8                               1   \n",
              "1594               2                  0                               2   \n",
              "1595               2                  0                               2   \n",
              "\n",
              "      availability_365  number_of_reviews_ltm  \n",
              "881                156                      1  \n",
              "1347               147                      4  \n",
              "1594               173                      0  \n",
              "1595               171                      0  "
            ],
            "text/html": [
              "\n",
              "  <div id=\"df-b6c74d47-138c-4a6b-a24a-54b4f4522e68\">\n",
              "    <div class=\"colab-df-container\">\n",
              "      <div>\n",
              "<style scoped>\n",
              "    .dataframe tbody tr th:only-of-type {\n",
              "        vertical-align: middle;\n",
              "    }\n",
              "\n",
              "    .dataframe tbody tr th {\n",
              "        vertical-align: top;\n",
              "    }\n",
              "\n",
              "    .dataframe thead th {\n",
              "        text-align: right;\n",
              "    }\n",
              "</style>\n",
              "<table border=\"1\" class=\"dataframe\">\n",
              "  <thead>\n",
              "    <tr style=\"text-align: right;\">\n",
              "      <th></th>\n",
              "      <th>id</th>\n",
              "      <th>name</th>\n",
              "      <th>host_id</th>\n",
              "      <th>host_name</th>\n",
              "      <th>neighbourhood</th>\n",
              "      <th>latitude</th>\n",
              "      <th>longitude</th>\n",
              "      <th>room_type</th>\n",
              "      <th>price</th>\n",
              "      <th>minimum_nights</th>\n",
              "      <th>number_of_reviews</th>\n",
              "      <th>calculated_host_listings_count</th>\n",
              "      <th>availability_365</th>\n",
              "      <th>number_of_reviews_ltm</th>\n",
              "    </tr>\n",
              "  </thead>\n",
              "  <tbody>\n",
              "    <tr>\n",
              "      <th>881</th>\n",
              "      <td>24199715</td>\n",
              "      <td>Alba</td>\n",
              "      <td>138516320</td>\n",
              "      <td>Sabrina</td>\n",
              "      <td>Selvino</td>\n",
              "      <td>45.77956</td>\n",
              "      <td>9.74717</td>\n",
              "      <td>Entire home/apt</td>\n",
              "      <td>110</td>\n",
              "      <td>1</td>\n",
              "      <td>1</td>\n",
              "      <td>1</td>\n",
              "      <td>156</td>\n",
              "      <td>1</td>\n",
              "    </tr>\n",
              "    <tr>\n",
              "      <th>1347</th>\n",
              "      <td>36436015</td>\n",
              "      <td>La casa nel bosco</td>\n",
              "      <td>16101206</td>\n",
              "      <td>Laura</td>\n",
              "      <td>Selvino</td>\n",
              "      <td>45.77794</td>\n",
              "      <td>9.74820</td>\n",
              "      <td>Entire home/apt</td>\n",
              "      <td>120</td>\n",
              "      <td>3</td>\n",
              "      <td>8</td>\n",
              "      <td>1</td>\n",
              "      <td>147</td>\n",
              "      <td>4</td>\n",
              "    </tr>\n",
              "    <tr>\n",
              "      <th>1594</th>\n",
              "      <td>43124267</td>\n",
              "      <td>Contessa Pace - Luxury flat “App. Perello”</td>\n",
              "      <td>153217133</td>\n",
              "      <td>Gabriella</td>\n",
              "      <td>Selvino</td>\n",
              "      <td>45.78227</td>\n",
              "      <td>9.74765</td>\n",
              "      <td>Entire home/apt</td>\n",
              "      <td>150</td>\n",
              "      <td>2</td>\n",
              "      <td>0</td>\n",
              "      <td>2</td>\n",
              "      <td>173</td>\n",
              "      <td>0</td>\n",
              "    </tr>\n",
              "    <tr>\n",
              "      <th>1595</th>\n",
              "      <td>43130318</td>\n",
              "      <td>Contessa Pace - Luxury flat “App. Poieto”</td>\n",
              "      <td>153217133</td>\n",
              "      <td>Gabriella</td>\n",
              "      <td>Selvino</td>\n",
              "      <td>45.78237</td>\n",
              "      <td>9.74771</td>\n",
              "      <td>Entire home/apt</td>\n",
              "      <td>150</td>\n",
              "      <td>2</td>\n",
              "      <td>0</td>\n",
              "      <td>2</td>\n",
              "      <td>171</td>\n",
              "      <td>0</td>\n",
              "    </tr>\n",
              "  </tbody>\n",
              "</table>\n",
              "</div>\n",
              "      <button class=\"colab-df-convert\" onclick=\"convertToInteractive('df-b6c74d47-138c-4a6b-a24a-54b4f4522e68')\"\n",
              "              title=\"Convert this dataframe to an interactive table.\"\n",
              "              style=\"display:none;\">\n",
              "        \n",
              "  <svg xmlns=\"http://www.w3.org/2000/svg\" height=\"24px\"viewBox=\"0 0 24 24\"\n",
              "       width=\"24px\">\n",
              "    <path d=\"M0 0h24v24H0V0z\" fill=\"none\"/>\n",
              "    <path d=\"M18.56 5.44l.94 2.06.94-2.06 2.06-.94-2.06-.94-.94-2.06-.94 2.06-2.06.94zm-11 1L8.5 8.5l.94-2.06 2.06-.94-2.06-.94L8.5 2.5l-.94 2.06-2.06.94zm10 10l.94 2.06.94-2.06 2.06-.94-2.06-.94-.94-2.06-.94 2.06-2.06.94z\"/><path d=\"M17.41 7.96l-1.37-1.37c-.4-.4-.92-.59-1.43-.59-.52 0-1.04.2-1.43.59L10.3 9.45l-7.72 7.72c-.78.78-.78 2.05 0 2.83L4 21.41c.39.39.9.59 1.41.59.51 0 1.02-.2 1.41-.59l7.78-7.78 2.81-2.81c.8-.78.8-2.07 0-2.86zM5.41 20L4 18.59l7.72-7.72 1.47 1.35L5.41 20z\"/>\n",
              "  </svg>\n",
              "      </button>\n",
              "      \n",
              "  <style>\n",
              "    .colab-df-container {\n",
              "      display:flex;\n",
              "      flex-wrap:wrap;\n",
              "      gap: 12px;\n",
              "    }\n",
              "\n",
              "    .colab-df-convert {\n",
              "      background-color: #E8F0FE;\n",
              "      border: none;\n",
              "      border-radius: 50%;\n",
              "      cursor: pointer;\n",
              "      display: none;\n",
              "      fill: #1967D2;\n",
              "      height: 32px;\n",
              "      padding: 0 0 0 0;\n",
              "      width: 32px;\n",
              "    }\n",
              "\n",
              "    .colab-df-convert:hover {\n",
              "      background-color: #E2EBFA;\n",
              "      box-shadow: 0px 1px 2px rgba(60, 64, 67, 0.3), 0px 1px 3px 1px rgba(60, 64, 67, 0.15);\n",
              "      fill: #174EA6;\n",
              "    }\n",
              "\n",
              "    [theme=dark] .colab-df-convert {\n",
              "      background-color: #3B4455;\n",
              "      fill: #D2E3FC;\n",
              "    }\n",
              "\n",
              "    [theme=dark] .colab-df-convert:hover {\n",
              "      background-color: #434B5C;\n",
              "      box-shadow: 0px 1px 3px 1px rgba(0, 0, 0, 0.15);\n",
              "      filter: drop-shadow(0px 1px 2px rgba(0, 0, 0, 0.3));\n",
              "      fill: #FFFFFF;\n",
              "    }\n",
              "  </style>\n",
              "\n",
              "      <script>\n",
              "        const buttonEl =\n",
              "          document.querySelector('#df-b6c74d47-138c-4a6b-a24a-54b4f4522e68 button.colab-df-convert');\n",
              "        buttonEl.style.display =\n",
              "          google.colab.kernel.accessAllowed ? 'block' : 'none';\n",
              "\n",
              "        async function convertToInteractive(key) {\n",
              "          const element = document.querySelector('#df-b6c74d47-138c-4a6b-a24a-54b4f4522e68');\n",
              "          const dataTable =\n",
              "            await google.colab.kernel.invokeFunction('convertToInteractive',\n",
              "                                                     [key], {});\n",
              "          if (!dataTable) return;\n",
              "\n",
              "          const docLinkHtml = 'Like what you see? Visit the ' +\n",
              "            '<a target=\"_blank\" href=https://colab.research.google.com/notebooks/data_table.ipynb>data table notebook</a>'\n",
              "            + ' to learn more about interactive tables.';\n",
              "          element.innerHTML = '';\n",
              "          dataTable['output_type'] = 'display_data';\n",
              "          await google.colab.output.renderOutput(dataTable, element);\n",
              "          const docLink = document.createElement('div');\n",
              "          docLink.innerHTML = docLinkHtml;\n",
              "          element.appendChild(docLink);\n",
              "        }\n",
              "      </script>\n",
              "    </div>\n",
              "  </div>\n",
              "  "
            ]
          },
          "metadata": {},
          "execution_count": 58
        }
      ]
    },
    {
      "cell_type": "markdown",
      "source": [
        "Vamos utilizar os valores de latitude e longitude dos imóveis para plotar um gráfico *scatter*."
      ],
      "metadata": {
        "id": "BfMAGSN1tvS9"
      }
    },
    {
      "cell_type": "code",
      "metadata": {
        "id": "UxVJqJ_3W59I",
        "colab": {
          "base_uri": "https://localhost:8080/",
          "height": 361
        },
        "outputId": "e35cd1a3-493d-44f5-c1c3-979848ac69f0"
      },
      "source": [
        "# plotar os imóveis pela latitude-longitude\n",
        "df_clean.plot(kind=\"scatter\", x='longitude', y='latitude', alpha=0.4, c=df_clean['price'], s=8, cmap=plt.get_cmap('jet'), figsize=(12, 6));"
      ],
      "execution_count": null,
      "outputs": [
        {
          "output_type": "display_data",
          "data": {
            "text/plain": [
              "<Figure size 864x432 with 2 Axes>"
            ],
            "image/png": "[encoded data removed]"
          },
          "metadata": {
            "needs_background": "light"
          }
        }
      ]
    },
    {
      "cell_type": "markdown",
      "source": [
        "Não há regiões concentradas de imóveis com valores muito elevados, contudo é possíel ver que há uma região mais concentrada que corresponde ao centro de Bérgamo."
      ],
      "metadata": {
        "id": "3YvqlWFHuC_W"
      }
    },
    {
      "cell_type": "code",
      "metadata": {
        "id": "_VzNhrEgY82N",
        "colab": {
          "base_uri": "https://localhost:8080/"
        },
        "outputId": "932bcc06-cd98-43d7-a877-c1902c2b5648"
      },
      "source": [
        "# ver a média da coluna `minimum_nights`\n",
        "df_clean['minimum_nights'].mean()"
      ],
      "execution_count": null,
      "outputs": [
        {
          "output_type": "execute_result",
          "data": {
            "text/plain": [
              "1.8966421825813222"
            ]
          },
          "metadata": {},
          "execution_count": 48
        }
      ]
    },
    {
      "cell_type": "markdown",
      "metadata": {
        "id": "GkvAg623RjoR"
      },
      "source": [
        "## **Conclusões**\n",
        "\n",
        "Neste estudo foi possível conhecer um pouco mais sobre a província de Bérgamo e a presença do Airbnb na região.\n",
        "\n",
        "As variáveis analisadas, tiveram como intuito destacar e justificar a precificação dos imóveis de acordo com a localização.\n",
        "\n",
        "A metodologia utilizada neste trabalho poderá ser replicada para outras cidades de acordo com o destino da sua viagem.\n",
        "\n",
        "A ferramenta do Airbnb é uma excelente aliada para a programação do seu passeio, permitindo ter uma experiência única e agradável de acordo com as suas necessidades.\n",
        "\n",
        "Portanto fique a vontade para utilizar este estudo nos seus próximos planejamentos turísticos."
      ]
    },
    {
      "cell_type": "markdown",
      "source": [
        "# <center> Boa viagem! </center>"
      ],
      "metadata": {
        "id": "b2xaVuhM2bdH"
      }
    }
  ]
}